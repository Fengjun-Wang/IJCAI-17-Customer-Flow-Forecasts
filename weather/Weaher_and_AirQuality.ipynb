{
 "cells": [
  {
   "cell_type": "markdown",
   "metadata": {},
   "source": [
    "#### get all pinyin names for cities with weather information"
   ]
  },
  {
   "cell_type": "code",
   "execution_count": 70,
   "metadata": {
    "collapsed": true
   },
   "outputs": [],
   "source": [
    "# -*- coding: utf-8 -*-\n",
    "import os\n",
    "def get_all_cities():\n",
    "    all_cities = set()\n",
    "    files = os.listdir(\"./weather/city_weather/\")\n",
    "    for f in files:\n",
    "        all_cities.add(f)\n",
    "    return all_cities"
   ]
  },
  {
   "cell_type": "code",
   "execution_count": 82,
   "metadata": {},
   "outputs": [
    {
     "name": "stdout",
     "output_type": "stream",
     "text": [
      "set(['dongying', 'taizhou', 'xinyang', 'zhengzhou', 'liaoyang', 'rizhao', 'huanggang', 'puyang', 'wuhu', 'huangshi', 'deyang', 'xiangyang', 'sanming', 'huaian', 'fushun', 'xiamen', 'sanya', 'weihai', 'nanning', 'yangzhou', 'foshan', 'guiyang', 'hangzhou', 'fuzhou', 'shaoxing', 'wuxi', 'jingzhou', 'ankang', 'huizhou', 'yulin', 'tongliao', 'jinhua', 'bengbu', 'zhangjiakou', 'changsha', 'jining', 'tianjin', 'tianmen', 'tongling', 'xingtai', 'huaibei', 'dongguan', 'jiangmen', 'dazhou', 'nantong', 'guangzhou', 'zhangzhou', 'quzhou', 'wuhan', 'shangrao', 'luoyang', 'xuzhou', 'changzhi', 'qingdao', 'chongqing', 'suqian', 'fuyang', 'zigong', 'leshan', 'changzhou', 'ningde', 'lishui', 'luan', 'xianning', 'shanghai', 'weifang', 'chengdu', 'beijing', 'shenyang', 'nanjing', 'qingyuan', 'zhuzhou', 'wuzhou', 'langfang', 'zhenjiang', 'zhongshan', 'shanwei', 'zhuhai', 'kunming', 'jiaxing', 'xiaogan', 'xianyang', 'wenzhou', 'zhoushan', 'shijiazhuang', 'liuzhou', 'ningbo', 'yichang', 'suzhou', 'nanping', 'jingmen', 'dalian', 'xian', 'hefei', 'yingkou', 'mianyang', 'simao', 'shihezi', 'shenzhen', 'baoding', 'shiyan', 'huzhou', 'yantai', 'taizhou2', 'yancheng', 'haerbin', 'quanzhou', 'huludao', 'yangjiang', 'longyan', 'nanchang', 'hanzhong', 'baoji', 'liaocheng', 'jinan', 'huangshan', 'handan', 'putian', 'zhaoqing', 'taiyuan', 'jinzhou', 'zhanjiang'])\n"
     ]
    }
   ],
   "source": [
    "print get_all_cities()"
   ]
  },
  {
   "cell_type": "markdown",
   "metadata": {},
   "source": [
    "#### find the day range of shop trends"
   ]
  },
  {
   "cell_type": "code",
   "execution_count": 27,
   "metadata": {
    "collapsed": false
   },
   "outputs": [
    {
     "name": "stdout",
     "output_type": "stream",
     "text": [
      "2015-06-26 2016-10-31\n"
     ]
    }
   ],
   "source": [
    "from datetime import datetime \n",
    "def find_earliest_day_of_shop_trend():\n",
    "    folder = \"/home/hao/Dropbox/dataset/Analysis/PayTrend/\"\n",
    "    filename_template = \"CustomerFlow_%s.csv\"\n",
    "    minday = datetime.strptime(\"2020-12-12\",'%Y-%m-%d').date()\n",
    "    maxday = datetime.strptime(\"1770-12-12\",'%Y-%m-%d').date()\n",
    "    for i in xrange(1,2001):\n",
    "        filename = filename_template%i\n",
    "        filename = os.path.join(folder, filename)\n",
    "        with open(filename,'r') as fp:\n",
    "            lines = fp.readlines()\n",
    "            firstlline = lines[0]\n",
    "            lastline = lines[-1]\n",
    "            day = datetime.strptime(firstlline.split(',')[0],'%Y-%m-%d').date()\n",
    "            if day<minday:\n",
    "                minday = day\n",
    "            day = datetime.strptime(lastline.split(',')[0],'%Y-%m-%d').date()\n",
    "            if day>maxday:\n",
    "                maxday=day\n",
    "    return minday,maxday\n",
    "minday,maxday = find_earliest_day_of_shop_trend()\n",
    "print minday,maxday"
   ]
  },
  {
   "cell_type": "markdown",
   "metadata": {},
   "source": [
    "### do some statistics abou the number of days that are not covered by the weather. i.e. find the number of days that are before 2015-07-01"
   ]
  },
  {
   "cell_type": "code",
   "execution_count": 26,
   "metadata": {
    "collapsed": true
   },
   "outputs": [
    {
     "name": "stdout",
     "output_type": "stream",
     "text": [
      "shop_id: 7   days_without_weather: 3\nshop_id: 88   days_without_weather: 2\nshop_id: 145   days_without_weather: 5\nshop_id: 200   days_without_weather: 2\nshop_id: 217   days_without_weather: 3\nshop_id: 260   days_without_weather: 5\nshop_id: 304   days_without_weather: 2\nshop_id: 315   days_without_weather: 4\nshop_id: 341   days_without_weather: 1\nshop_id: 345   days_without_weather: 2\nshop_id: 358   days_without_weather: 2\nshop_id: 375   days_without_weather: 4\nshop_id: 380   days_without_weather: 3\nshop_id: 386   days_without_weather: 3\nshop_id: 391   days_without_weather: 2\nshop_id: 404   days_without_weather: 2\nshop_id: 455   days_without_weather: 1\nshop_id: 531   days_without_weather: 2\nshop_id: 548   days_without_weather: 4\nshop_id: 560   days_without_weather: 5\nshop_id: 568   days_without_weather: 1\nshop_id: 668   days_without_weather: 2\nshop_id: 676   days_without_weather: 2\nshop_id: 750   days_without_weather: 4\nshop_id: 850   days_without_weather: 3\nshop_id: 897   days_without_weather: 5\nshop_id: 972   days_without_weather: 2\nshop_id: 1092   days_without_weather: 2\nshop_id: 1094   days_without_weather: 3\nshop_id: 1181   days_without_weather: 3\nshop_id: 1195   days_without_weather: 2\nshop_id: 1332   days_without_weather: 5\nshop_id: 1350   days_without_weather: 3\nshop_id: 1356   days_without_weather: 3\nshop_id: 1393   days_without_weather: 3\nshop_id: 1410   days_without_weather: 2\nshop_id: 1411   days_without_weather: 2\nshop_id: 1469   days_without_weather: 4\nshop_id: 1471   days_without_weather: 2\nshop_id: 1485   days_without_weather: 2\nshop_id: 1557   days_without_weather: 4\nshop_id: 1564   days_without_weather: 2\nshop_id: 1583   days_without_weather: 1\nshop_id: 1624   days_without_weather: 3\nshop_id: 1647   days_without_weather: 2\nshop_id: 1704   days_without_weather: 1\nshop_id: 1745   days_without_weather: 3\nshop_id: 1750   days_without_weather: 4\nshop_id: 1775   days_without_weather: 2\nshop_id: 1776   days_without_weather: 4\nshop_id: 1807   days_without_weather: 2\nshop_id: 1820   days_without_weather: 2\nshop_id: 1903   days_without_weather: 2\nshop_id: 1928   days_without_weather: 3\nshop_id: 1951   days_without_weather: 2\nshop_id: 1955   days_without_weather: 2\nshop_id: 1985   days_without_weather: 2\n"
     ]
    }
   ],
   "source": [
    "import operator\n",
    "def find_invalid_days_for_shop(i):\n",
    "    threhold_day = datetime.strptime(\"2015-07-01\",'%Y-%m-%d').date()\n",
    "    folder = \"/home/hao/Dropbox/dataset/Analysis/PayTrend/\"\n",
    "    filename_template = \"CustomerFlow_%s.csv\"\n",
    "    filename = filename_template % i\n",
    "    filename = os.path.join(folder,filename)\n",
    "    days_res = []\n",
    "    with open(filename,'r') as fp:\n",
    "        lines = fp.readlines()\n",
    "        for l in lines:\n",
    "            day = datetime.strptime(l.split(',')[0],'%Y-%m-%d').date()\n",
    "            if day>=threhold_day:\n",
    "                break\n",
    "            else:\n",
    "                days_res.append(day)\n",
    "    return days_res\n",
    "\n",
    "def find_invalid_days_for_each_shop():\n",
    "    dic_res = {}\n",
    "    for i in xrange(1,2001):\n",
    "        number_of_invalid_days = len(find_invalid_days_for_shop(i))\n",
    "        if number_of_invalid_days > 0:\n",
    "            dic_res[i] = number_of_invalid_days\n",
    "    sorted_x = sorted(dic_res.items(), key=operator.itemgetter(0))\n",
    "    for pair in sorted_x:\n",
    "        print 'shop_id:',pair[0],\"  days_without_weather:\",pair[1]\n",
    "find_invalid_days_for_each_shop()"
   ]
  },
  {
   "cell_type": "markdown",
   "metadata": {},
   "source": [
    "### how many different weather conditions and wind levels"
   ]
  },
  {
   "cell_type": "code",
   "execution_count": 62,
   "metadata": {
    "collapsed": true
   },
   "outputs": [],
   "source": [
    "import pandas as pd\n",
    "def all_city_weather():\n",
    "    files = os.listdir(\"./weather/city_weather/\")\n",
    "    all  = []\n",
    "    invalids = []\n",
    "    for f in files:\n",
    "        try:\n",
    "            weather_file = os.path.join(\"./weather/city_weather\",f)\n",
    "            cur= pd.read_csv(weather_file,names=['day','high_temp','low_temp','weather','wind','wind_level'])\n",
    "            all.append(cur)\n",
    "        except:\n",
    "            invalids.append(f)\n",
    "    all = pd.concat(all,ignore_index=True)\n",
    "    return all,invalids\n",
    "all_weather_csv,invalids = all_city_weather()"
   ]
  },
  {
   "cell_type": "code",
   "execution_count": 68,
   "metadata": {},
   "outputs": [],
   "source": [
    "weather_conditions = all_weather_csv['weather'].value_counts()\n",
    "weather_conditions.to_csv('weather_consitions.csv')"
   ]
  },
  {
   "cell_type": "code",
   "execution_count": 69,
   "metadata": {},
   "outputs": [],
   "source": [
    "wind_level = all_weather_csv['wind_level'].value_counts()\n",
    "wind_level.to_csv('wind_levels.csv')"
   ]
  },
  {
   "cell_type": "markdown",
   "metadata": {},
   "source": [
    "### generate vector for each weather condition"
   ]
  },
  {
   "cell_type": "code",
   "execution_count": 102,
   "metadata": {
    "collapsed": false
   },
   "outputs": [],
   "source": [
    "def generate_vector_for_each_weater_condition():\n",
    "    all_weather_conditions = ['晴天', '多云',\t'阴天','小雨','中雨','大雨','阵雨','暴雨','雾霾','小雪','中雪','大雪','阵雪','沙尘']\n",
    "    file_ = './weather/weather_consitions_processed.csv'\n",
    "    dic = {}\n",
    "    with open(file_,'r') as fp:\n",
    "        lines = fp.readlines()\n",
    "        for l in lines:\n",
    "            l = l.strip('\\r\\n,')\n",
    "            terms = l.split(',')\n",
    "            key_ = terms[0]\n",
    "            values = terms[2:]\n",
    "            vector = [0]*len(all_weather_conditions)\n",
    "            for v in values:\n",
    "                try:\n",
    "                    vector[all_weather_conditions.index(v)] = 1\n",
    "                except:\n",
    "                    print v,key_\n",
    "            dic[key_]=vector\n",
    "    return dic\n",
    "dic = generate_vector_for_each_weater_condition()"
   ]
  },
  {
   "cell_type": "markdown",
   "metadata": {},
   "source": [
    "### get dictionary mapping day to weather vector for each city"
   ]
  },
  {
   "cell_type": "code",
   "execution_count": 107,
   "metadata": {},
   "outputs": [],
   "source": [
    "def get_map_from_city_to_daily_weather():\n",
    "    weather_to_vector = generate_vector_for_each_weater_condition()\n",
    "    res = {}\n",
    "    cityfiles = os.listdir(\"./weather/city_weather/\")\n",
    "    for city in cityfiles:\n",
    "        sub_dict = res.setdefault(city,{})\n",
    "        with open(os.path.join(\"./weather/city_weather/\",city),'r') as fp:\n",
    "            lines = fp.readlines()\n",
    "            for l in lines:\n",
    "                terms = l.split(',')\n",
    "                day = datetime.strptime(terms[0],'%Y-%m-%d').date()\n",
    "                temps = map(int,terms[1:3])\n",
    "                weather = weather_to_vector[terms[3]]\n",
    "                vector = temps + weather\n",
    "                sub_dict[day] = vector\n",
    "    return res\n",
    "city_to_daily_weather = get_map_from_city_to_daily_weather()"
   ]
  },
  {
   "cell_type": "code",
   "execution_count": 111,
   "metadata": {
    "collapsed": true
   },
   "outputs": [],
   "source": [
    "pickle.dump(city_to_daily_weather,open('city_to_daily_weather.pkl','wb'))"
   ]
  },
  {
   "cell_type": "code",
   "execution_count": 112,
   "metadata": {
    "collapsed": true
   },
   "outputs": [
    {
     "data": {
      "text/plain": [
       "{datetime.date(2015, 7, 1): [33, 18, 1, 0, 0, 0, 0, 0, 0, 0, 0, 0, 0, 0, 0, 0],\n datetime.date(2015, 7, 2): [34, 18, 1, 1, 0, 0, 0, 0, 0, 0, 0, 0, 0, 0, 0, 0],\n datetime.date(2015, 7, 3): [33, 20, 1, 1, 0, 0, 0, 0, 0, 0, 0, 0, 0, 0, 0, 0],\n datetime.date(2015, 7, 4): [27, 19, 0, 1, 0, 0, 0, 0, 1, 0, 0, 0, 0, 0, 0, 0],\n datetime.date(2015, 7, 5): [30, 21, 1, 0, 0, 0, 0, 0, 0, 0, 0, 0, 0, 0, 0, 0],\n datetime.date(2015, 7, 6): [31, 22, 0, 1, 0, 0, 0, 0, 0, 0, 0, 0, 0, 0, 0, 0],\n datetime.date(2015, 7, 7): [33, 22, 1, 1, 0, 0, 0, 0, 0, 0, 0, 0, 0, 0, 0, 0],\n datetime.date(2015, 7, 8): [33, 22, 1, 0, 0, 0, 0, 0, 0, 0, 1, 0, 0, 0, 0, 0],\n datetime.date(2015, 7, 9): [34, 23, 0, 1, 1, 0, 0, 0, 0, 0, 0, 0, 0, 0, 0, 0],\n datetime.date(2015, 7, 10): [32,\n  23,\n  0,\n  1,\n  1,\n  0,\n  0,\n  0,\n  0,\n  0,\n  0,\n  0,\n  0,\n  0,\n  0,\n  0],\n datetime.date(2015, 7, 11): [35,\n  24,\n  1,\n  1,\n  0,\n  0,\n  0,\n  0,\n  0,\n  0,\n  0,\n  0,\n  0,\n  0,\n  0,\n  0],\n datetime.date(2015, 7, 12): [38,\n  25,\n  1,\n  0,\n  0,\n  0,\n  0,\n  0,\n  0,\n  0,\n  0,\n  0,\n  0,\n  0,\n  0,\n  0],\n datetime.date(2015, 7, 13): [40,\n  25,\n  1,\n  0,\n  0,\n  0,\n  0,\n  0,\n  1,\n  0,\n  0,\n  0,\n  0,\n  0,\n  0,\n  0],\n datetime.date(2015, 7, 14): [37,\n  24,\n  0,\n  0,\n  0,\n  0,\n  0,\n  0,\n  1,\n  0,\n  0,\n  0,\n  0,\n  0,\n  0,\n  0],\n datetime.date(2015, 7, 15): [30,\n  23,\n  0,\n  0,\n  0,\n  0,\n  0,\n  0,\n  1,\n  0,\n  0,\n  0,\n  0,\n  0,\n  0,\n  0],\n datetime.date(2015, 7, 16): [28,\n  21,\n  0,\n  0,\n  0,\n  0,\n  0,\n  0,\n  1,\n  0,\n  0,\n  0,\n  0,\n  0,\n  0,\n  0],\n datetime.date(2015, 7, 17): [27,\n  21,\n  0,\n  0,\n  0,\n  0,\n  1,\n  0,\n  1,\n  0,\n  0,\n  0,\n  0,\n  0,\n  0,\n  0],\n datetime.date(2015, 7, 18): [27,\n  21,\n  0,\n  0,\n  0,\n  0,\n  0,\n  0,\n  1,\n  0,\n  0,\n  0,\n  0,\n  0,\n  0,\n  0],\n datetime.date(2015, 7, 19): [27,\n  21,\n  0,\n  0,\n  0,\n  0,\n  0,\n  0,\n  1,\n  0,\n  0,\n  0,\n  0,\n  0,\n  0,\n  0],\n datetime.date(2015, 7, 20): [28,\n  21,\n  0,\n  0,\n  0,\n  0,\n  0,\n  0,\n  1,\n  0,\n  0,\n  0,\n  0,\n  0,\n  0,\n  0],\n datetime.date(2015, 7, 21): [28,\n  22,\n  0,\n  0,\n  0,\n  0,\n  0,\n  0,\n  1,\n  0,\n  0,\n  0,\n  0,\n  0,\n  0,\n  0],\n datetime.date(2015, 7, 22): [30,\n  21,\n  0,\n  0,\n  0,\n  0,\n  0,\n  0,\n  1,\n  0,\n  0,\n  0,\n  0,\n  0,\n  0,\n  0],\n datetime.date(2015, 7, 23): [30,\n  21,\n  0,\n  0,\n  1,\n  0,\n  0,\n  0,\n  1,\n  0,\n  0,\n  0,\n  0,\n  0,\n  0,\n  0],\n datetime.date(2015, 7, 24): [31,\n  21,\n  0,\n  0,\n  1,\n  0,\n  0,\n  0,\n  1,\n  0,\n  0,\n  0,\n  0,\n  0,\n  0,\n  0],\n datetime.date(2015, 7, 25): [33,\n  23,\n  0,\n  1,\n  0,\n  0,\n  0,\n  0,\n  0,\n  0,\n  0,\n  0,\n  0,\n  0,\n  0,\n  0],\n datetime.date(2015, 7, 26): [33,\n  23,\n  0,\n  1,\n  0,\n  0,\n  0,\n  0,\n  0,\n  0,\n  0,\n  0,\n  0,\n  0,\n  0,\n  0],\n datetime.date(2015, 7, 27): [33,\n  23,\n  0,\n  0,\n  0,\n  0,\n  1,\n  0,\n  1,\n  0,\n  0,\n  0,\n  0,\n  0,\n  0,\n  0],\n datetime.date(2015, 7, 28): [29,\n  22,\n  0,\n  0,\n  0,\n  0,\n  1,\n  1,\n  1,\n  0,\n  0,\n  0,\n  0,\n  0,\n  0,\n  0],\n datetime.date(2015, 7, 29): [32,\n  23,\n  0,\n  0,\n  0,\n  0,\n  0,\n  1,\n  1,\n  0,\n  0,\n  0,\n  0,\n  0,\n  0,\n  0],\n datetime.date(2015, 7, 30): [29,\n  22,\n  0,\n  0,\n  0,\n  0,\n  0,\n  0,\n  1,\n  0,\n  0,\n  0,\n  0,\n  0,\n  0,\n  0],\n datetime.date(2015, 7, 31): [29,\n  22,\n  0,\n  1,\n  0,\n  0,\n  0,\n  0,\n  0,\n  0,\n  0,\n  0,\n  0,\n  0,\n  0,\n  0],\n datetime.date(2015, 8, 1): [31, 23, 0, 0, 1, 1, 1, 0, 0, 0, 0, 0, 0, 0, 0, 0],\n datetime.date(2015, 8, 2): [30, 23, 0, 1, 1, 0, 0, 0, 0, 0, 0, 0, 0, 0, 0, 0],\n datetime.date(2015, 8, 3): [30, 23, 0, 1, 0, 0, 0, 0, 1, 0, 0, 0, 0, 0, 0, 0],\n datetime.date(2015, 8, 4): [33, 22, 1, 1, 0, 0, 0, 0, 0, 0, 0, 0, 0, 0, 0, 0],\n datetime.date(2015, 8, 5): [32, 22, 0, 1, 0, 0, 0, 0, 1, 0, 0, 0, 0, 0, 0, 0],\n datetime.date(2015, 8, 6): [31, 22, 0, 1, 0, 0, 0, 0, 0, 0, 0, 0, 0, 0, 0, 0],\n datetime.date(2015, 8, 7): [30, 23, 0, 1, 0, 0, 0, 0, 0, 0, 0, 0, 0, 0, 0, 0],\n datetime.date(2015, 8, 8): [32, 23, 0, 1, 0, 0, 0, 0, 0, 0, 0, 0, 0, 0, 0, 0],\n datetime.date(2015, 8, 9): [33, 22, 1, 1, 0, 0, 0, 0, 0, 0, 0, 0, 0, 0, 0, 0],\n datetime.date(2015, 8, 10): [34,\n  23,\n  1,\n  1,\n  0,\n  0,\n  0,\n  0,\n  0,\n  0,\n  0,\n  0,\n  0,\n  0,\n  0,\n  0],\n datetime.date(2015, 8, 11): [34,\n  23,\n  1,\n  1,\n  0,\n  0,\n  0,\n  0,\n  0,\n  0,\n  0,\n  0,\n  0,\n  0,\n  0,\n  0],\n datetime.date(2015, 8, 12): [36,\n  24,\n  1,\n  0,\n  0,\n  0,\n  0,\n  0,\n  0,\n  0,\n  0,\n  0,\n  0,\n  0,\n  0,\n  0],\n datetime.date(2015, 8, 13): [35,\n  24,\n  0,\n  1,\n  0,\n  0,\n  0,\n  0,\n  1,\n  0,\n  0,\n  0,\n  0,\n  0,\n  0,\n  0],\n datetime.date(2015, 8, 14): [33,\n  22,\n  1,\n  1,\n  0,\n  0,\n  0,\n  0,\n  0,\n  0,\n  0,\n  0,\n  0,\n  0,\n  0,\n  0],\n datetime.date(2015, 8, 15): [35,\n  22,\n  1,\n  0,\n  0,\n  0,\n  0,\n  0,\n  0,\n  0,\n  0,\n  0,\n  0,\n  0,\n  0,\n  0],\n datetime.date(2015, 8, 16): [35,\n  24,\n  1,\n  0,\n  1,\n  0,\n  0,\n  0,\n  0,\n  0,\n  0,\n  0,\n  0,\n  0,\n  0,\n  0],\n datetime.date(2015, 8, 17): [32,\n  23,\n  0,\n  0,\n  0,\n  0,\n  0,\n  0,\n  1,\n  0,\n  0,\n  0,\n  0,\n  0,\n  0,\n  0],\n datetime.date(2015, 8, 18): [30,\n  20,\n  0,\n  0,\n  0,\n  0,\n  1,\n  0,\n  1,\n  0,\n  0,\n  0,\n  0,\n  0,\n  0,\n  0],\n datetime.date(2015, 8, 19): [28,\n  20,\n  0,\n  1,\n  0,\n  0,\n  0,\n  0,\n  1,\n  0,\n  0,\n  0,\n  0,\n  0,\n  0,\n  0],\n datetime.date(2015, 8, 20): [33,\n  21,\n  1,\n  1,\n  0,\n  0,\n  0,\n  0,\n  0,\n  0,\n  0,\n  0,\n  0,\n  0,\n  0,\n  0],\n datetime.date(2015, 8, 21): [34,\n  21,\n  0,\n  1,\n  0,\n  0,\n  0,\n  0,\n  0,\n  0,\n  0,\n  0,\n  0,\n  0,\n  0,\n  0],\n datetime.date(2015, 8, 22): [31,\n  20,\n  0,\n  0,\n  0,\n  0,\n  0,\n  0,\n  1,\n  0,\n  0,\n  0,\n  0,\n  0,\n  0,\n  0],\n datetime.date(2015, 8, 23): [29,\n  20,\n  0,\n  0,\n  1,\n  0,\n  0,\n  0,\n  1,\n  0,\n  0,\n  0,\n  0,\n  0,\n  0,\n  0],\n datetime.date(2015, 8, 24): [30,\n  20,\n  0,\n  1,\n  0,\n  0,\n  0,\n  0,\n  0,\n  0,\n  0,\n  0,\n  0,\n  0,\n  0,\n  0],\n datetime.date(2015, 8, 25): [30,\n  20,\n  0,\n  1,\n  0,\n  0,\n  0,\n  0,\n  0,\n  0,\n  0,\n  0,\n  0,\n  0,\n  0,\n  0],\n datetime.date(2015, 8, 26): [31,\n  21,\n  0,\n  1,\n  0,\n  0,\n  0,\n  0,\n  0,\n  0,\n  0,\n  0,\n  0,\n  0,\n  0,\n  0],\n datetime.date(2015, 8, 27): [31,\n  20,\n  0,\n  1,\n  0,\n  0,\n  0,\n  0,\n  0,\n  0,\n  0,\n  0,\n  0,\n  0,\n  0,\n  0],\n datetime.date(2015, 8, 28): [32,\n  21,\n  0,\n  1,\n  0,\n  0,\n  0,\n  0,\n  1,\n  0,\n  0,\n  0,\n  0,\n  0,\n  0,\n  0],\n datetime.date(2015, 8, 29): [30,\n  20,\n  0,\n  0,\n  0,\n  0,\n  0,\n  0,\n  1,\n  0,\n  0,\n  0,\n  0,\n  0,\n  0,\n  0],\n datetime.date(2015, 8, 30): [27,\n  19,\n  0,\n  0,\n  0,\n  1,\n  1,\n  0,\n  1,\n  0,\n  0,\n  0,\n  0,\n  0,\n  0,\n  0],\n datetime.date(2015, 8, 31): [25,\n  18,\n  0,\n  0,\n  0,\n  1,\n  1,\n  0,\n  0,\n  0,\n  0,\n  0,\n  0,\n  0,\n  0,\n  0],\n datetime.date(2015, 9, 1): [25, 18, 0, 1, 0, 0, 0, 0, 1, 0, 0, 0, 0, 0, 0, 0],\n datetime.date(2015, 9, 2): [29, 18, 1, 0, 0, 0, 0, 0, 0, 0, 0, 0, 0, 0, 0, 0],\n datetime.date(2015, 9, 3): [31, 21, 1, 0, 1, 0, 0, 0, 0, 0, 0, 0, 0, 0, 0, 0],\n datetime.date(2015, 9, 4): [24, 19, 0, 0, 0, 1, 1, 1, 0, 0, 0, 0, 0, 0, 0, 0],\n datetime.date(2015, 9, 5): [21, 18, 0, 0, 1, 1, 0, 0, 0, 0, 0, 0, 0, 0, 0, 0],\n datetime.date(2015, 9, 6): [27, 16, 1, 1, 0, 0, 0, 0, 0, 0, 0, 0, 0, 0, 0, 0],\n datetime.date(2015, 9, 7): [29, 17, 1, 1, 0, 0, 0, 0, 0, 0, 0, 0, 0, 0, 0, 0],\n datetime.date(2015, 9, 8): [28, 18, 0, 1, 1, 0, 0, 0, 0, 0, 0, 0, 0, 0, 0, 0],\n datetime.date(2015, 9, 9): [25, 18, 0, 0, 1, 0, 0, 0, 0, 0, 0, 0, 0, 0, 0, 0],\n datetime.date(2015, 9, 10): [20,\n  15,\n  0,\n  0,\n  0,\n  1,\n  0,\n  0,\n  0,\n  0,\n  0,\n  0,\n  0,\n  0,\n  0,\n  0],\n datetime.date(2015, 9, 11): [22,\n  15,\n  1,\n  1,\n  0,\n  0,\n  0,\n  0,\n  0,\n  0,\n  0,\n  0,\n  0,\n  0,\n  0,\n  0],\n datetime.date(2015, 9, 12): [26,\n  12,\n  1,\n  0,\n  0,\n  0,\n  0,\n  0,\n  0,\n  0,\n  0,\n  0,\n  0,\n  0,\n  0,\n  0],\n datetime.date(2015, 9, 13): [28,\n  15,\n  1,\n  1,\n  0,\n  0,\n  0,\n  0,\n  0,\n  0,\n  0,\n  0,\n  0,\n  0,\n  0,\n  0],\n datetime.date(2015, 9, 14): [26,\n  14,\n  1,\n  0,\n  0,\n  0,\n  0,\n  0,\n  0,\n  0,\n  0,\n  0,\n  0,\n  0,\n  0,\n  0],\n datetime.date(2015, 9, 15): [26,\n  15,\n  1,\n  0,\n  0,\n  0,\n  0,\n  0,\n  0,\n  0,\n  0,\n  0,\n  0,\n  0,\n  0,\n  0],\n datetime.date(2015, 9, 16): [27,\n  16,\n  1,\n  1,\n  0,\n  0,\n  0,\n  0,\n  0,\n  0,\n  0,\n  0,\n  0,\n  0,\n  0,\n  0],\n datetime.date(2015, 9, 17): [27,\n  18,\n  0,\n  0,\n  0,\n  0,\n  0,\n  0,\n  1,\n  0,\n  1,\n  0,\n  0,\n  0,\n  0,\n  0],\n datetime.date(2015, 9, 18): [29,\n  16,\n  1,\n  0,\n  0,\n  0,\n  0,\n  0,\n  0,\n  0,\n  0,\n  0,\n  0,\n  0,\n  0,\n  0],\n datetime.date(2015, 9, 19): [28,\n  15,\n  1,\n  0,\n  0,\n  0,\n  0,\n  0,\n  0,\n  0,\n  0,\n  0,\n  0,\n  0,\n  0,\n  0],\n datetime.date(2015, 9, 20): [28,\n  16,\n  1,\n  1,\n  0,\n  0,\n  0,\n  0,\n  0,\n  0,\n  0,\n  0,\n  0,\n  0,\n  0,\n  0],\n datetime.date(2015, 9, 21): [27,\n  18,\n  0,\n  1,\n  1,\n  0,\n  0,\n  0,\n  0,\n  0,\n  0,\n  0,\n  0,\n  0,\n  0,\n  0],\n datetime.date(2015, 9, 22): [25,\n  15,\n  0,\n  1,\n  0,\n  0,\n  0,\n  0,\n  1,\n  0,\n  0,\n  0,\n  0,\n  0,\n  0,\n  0],\n datetime.date(2015, 9, 23): [28,\n  17,\n  1,\n  0,\n  1,\n  0,\n  0,\n  0,\n  0,\n  0,\n  0,\n  0,\n  0,\n  0,\n  0,\n  0],\n datetime.date(2015, 9, 24): [24,\n  16,\n  0,\n  0,\n  1,\n  0,\n  0,\n  0,\n  1,\n  0,\n  0,\n  0,\n  0,\n  0,\n  0,\n  0],\n datetime.date(2015, 9, 25): [27,\n  13,\n  1,\n  0,\n  0,\n  0,\n  0,\n  0,\n  0,\n  0,\n  0,\n  0,\n  0,\n  0,\n  0,\n  0],\n datetime.date(2015, 9, 26): [26,\n  15,\n  1,\n  0,\n  0,\n  0,\n  0,\n  0,\n  0,\n  0,\n  0,\n  0,\n  0,\n  0,\n  0,\n  0],\n datetime.date(2015, 9, 27): [28,\n  15,\n  1,\n  0,\n  1,\n  0,\n  0,\n  0,\n  0,\n  0,\n  0,\n  0,\n  0,\n  0,\n  0,\n  0],\n datetime.date(2015, 9, 28): [18,\n  14,\n  0,\n  0,\n  0,\n  1,\n  0,\n  0,\n  0,\n  0,\n  0,\n  0,\n  0,\n  0,\n  0,\n  0],\n datetime.date(2015, 9, 29): [17,\n  13,\n  0,\n  1,\n  0,\n  1,\n  0,\n  0,\n  0,\n  0,\n  0,\n  0,\n  0,\n  0,\n  0,\n  0],\n datetime.date(2015, 9, 30): [21,\n  14,\n  0,\n  0,\n  0,\n  1,\n  1,\n  0,\n  1,\n  0,\n  0,\n  0,\n  0,\n  0,\n  0,\n  0],\n datetime.date(2015, 10, 1): [22,\n  10,\n  1,\n  0,\n  0,\n  0,\n  0,\n  0,\n  0,\n  0,\n  0,\n  0,\n  0,\n  0,\n  0,\n  0],\n datetime.date(2015, 10, 2): [26,\n  12,\n  1,\n  0,\n  0,\n  0,\n  0,\n  0,\n  0,\n  0,\n  0,\n  0,\n  0,\n  0,\n  0,\n  0],\n datetime.date(2015, 10, 3): [25,\n  12,\n  1,\n  0,\n  0,\n  0,\n  0,\n  0,\n  0,\n  0,\n  0,\n  0,\n  0,\n  0,\n  0,\n  0],\n datetime.date(2015, 10, 4): [25,\n  13,\n  1,\n  0,\n  0,\n  0,\n  0,\n  0,\n  0,\n  0,\n  0,\n  0,\n  0,\n  0,\n  0,\n  0],\n datetime.date(2015, 10, 5): [26,\n  13,\n  1,\n  0,\n  0,\n  0,\n  0,\n  0,\n  0,\n  0,\n  0,\n  0,\n  0,\n  0,\n  0,\n  0],\n datetime.date(2015, 10, 6): [25,\n  15,\n  0,\n  0,\n  0,\n  0,\n  0,\n  0,\n  0,\n  0,\n  1,\n  0,\n  0,\n  0,\n  0,\n  0],\n datetime.date(2015, 10, 7): [25,\n  13,\n  1,\n  0,\n  0,\n  0,\n  0,\n  0,\n  0,\n  0,\n  1,\n  0,\n  0,\n  0,\n  0,\n  0],\n datetime.date(2015, 10, 8): [19, 7, 1, 0, 0, 0, 0, 0, 0, 0, 0, 0, 0, 0, 0, 0],\n datetime.date(2015, 10, 9): [20, 8, 1, 0, 0, 0, 0, 0, 0, 0, 0, 0, 0, 0, 0, 0],\n datetime.date(2015, 10, 10): [16,\n  10,\n  1,\n  1,\n  0,\n  0,\n  0,\n  0,\n  0,\n  0,\n  0,\n  0,\n  0,\n  0,\n  0,\n  0],\n datetime.date(2015, 10, 11): [22,\n  8,\n  1,\n  0,\n  0,\n  0,\n  0,\n  0,\n  0,\n  0,\n  0,\n  0,\n  0,\n  0,\n  0,\n  0],\n datetime.date(2015, 10, 12): [24,\n  9,\n  1,\n  0,\n  0,\n  0,\n  0,\n  0,\n  0,\n  0,\n  0,\n  0,\n  0,\n  0,\n  0,\n  0],\n datetime.date(2015, 10, 13): [26,\n  11,\n  1,\n  0,\n  1,\n  0,\n  0,\n  0,\n  0,\n  0,\n  0,\n  0,\n  0,\n  0,\n  0,\n  0],\n datetime.date(2015, 10, 14): [22,\n  10,\n  1,\n  1,\n  0,\n  0,\n  0,\n  0,\n  0,\n  0,\n  0,\n  0,\n  0,\n  0,\n  0,\n  0],\n datetime.date(2015, 10, 15): [25,\n  11,\n  1,\n  0,\n  0,\n  0,\n  0,\n  0,\n  0,\n  0,\n  0,\n  0,\n  0,\n  0,\n  0,\n  0],\n datetime.date(2015, 10, 16): [25,\n  13,\n  0,\n  0,\n  1,\n  0,\n  0,\n  0,\n  0,\n  0,\n  1,\n  0,\n  0,\n  0,\n  0,\n  0],\n datetime.date(2015, 10, 17): [23,\n  14,\n  0,\n  1,\n  0,\n  0,\n  0,\n  0,\n  0,\n  0,\n  1,\n  0,\n  0,\n  0,\n  0,\n  0],\n datetime.date(2015, 10, 18): [20,\n  11,\n  1,\n  1,\n  0,\n  0,\n  0,\n  0,\n  0,\n  0,\n  0,\n  0,\n  0,\n  0,\n  0,\n  0],\n datetime.date(2015, 10, 19): [21,\n  12,\n  1,\n  1,\n  0,\n  0,\n  0,\n  0,\n  0,\n  0,\n  0,\n  0,\n  0,\n  0,\n  0,\n  0],\n datetime.date(2015, 10, 20): [14,\n  10,\n  0,\n  0,\n  0,\n  1,\n  0,\n  0,\n  0,\n  0,\n  0,\n  0,\n  0,\n  0,\n  0,\n  0],\n datetime.date(2015, 10, 21): [12,\n  9,\n  0,\n  0,\n  0,\n  1,\n  0,\n  0,\n  0,\n  0,\n  0,\n  0,\n  0,\n  0,\n  0,\n  0],\n datetime.date(2015, 10, 22): [11,\n  8,\n  0,\n  0,\n  1,\n  0,\n  0,\n  0,\n  0,\n  0,\n  0,\n  0,\n  0,\n  0,\n  0,\n  0],\n datetime.date(2015, 10, 23): [18,\n  8,\n  1,\n  1,\n  0,\n  0,\n  0,\n  0,\n  0,\n  0,\n  0,\n  0,\n  0,\n  0,\n  0,\n  0],\n datetime.date(2015, 10, 24): [20,\n  6,\n  1,\n  0,\n  0,\n  0,\n  0,\n  0,\n  0,\n  0,\n  0,\n  0,\n  0,\n  0,\n  0,\n  0],\n datetime.date(2015, 10, 25): [15,\n  9,\n  0,\n  0,\n  1,\n  1,\n  0,\n  0,\n  0,\n  0,\n  0,\n  0,\n  0,\n  0,\n  0,\n  0],\n datetime.date(2015, 10, 26): [15,\n  6,\n  1,\n  0,\n  1,\n  0,\n  0,\n  0,\n  0,\n  0,\n  0,\n  0,\n  0,\n  0,\n  0,\n  0],\n datetime.date(2015, 10, 27): [17,\n  4,\n  1,\n  1,\n  0,\n  0,\n  0,\n  0,\n  0,\n  0,\n  0,\n  0,\n  0,\n  0,\n  0,\n  0],\n datetime.date(2015, 10, 28): [15,\n  5,\n  1,\n  0,\n  0,\n  0,\n  0,\n  0,\n  0,\n  0,\n  0,\n  0,\n  0,\n  0,\n  0,\n  0],\n datetime.date(2015, 10, 29): [12,\n  2,\n  1,\n  0,\n  0,\n  0,\n  0,\n  0,\n  0,\n  0,\n  0,\n  0,\n  0,\n  0,\n  0,\n  0],\n datetime.date(2015, 10, 30): [14,\n  1,\n  1,\n  0,\n  0,\n  0,\n  0,\n  0,\n  0,\n  0,\n  0,\n  0,\n  0,\n  0,\n  0,\n  0],\n datetime.date(2015, 10, 31): [16,\n  3,\n  1,\n  1,\n  0,\n  0,\n  0,\n  0,\n  0,\n  0,\n  0,\n  0,\n  0,\n  0,\n  0,\n  0],\n datetime.date(2015, 11, 1): [18, 3, 1, 0, 0, 0, 0, 0, 0, 0, 0, 0, 0, 0, 0, 0],\n datetime.date(2015, 11, 2): [19, 5, 1, 0, 0, 0, 0, 0, 0, 0, 0, 0, 0, 0, 0, 0],\n datetime.date(2015, 11, 3): [17, 6, 0, 1, 0, 0, 0, 0, 0, 0, 1, 0, 0, 0, 0, 0],\n datetime.date(2015, 11, 4): [16, 9, 0, 0, 0, 1, 0, 0, 0, 0, 1, 0, 0, 0, 0, 0],\n datetime.date(2015, 11, 5): [11, 2, 0, 0, 0, 1, 0, 0, 0, 0, 0, 1, 0, 0, 0, 0],\n datetime.date(2015, 11, 6): [3, 2, 0, 0, 0, 0, 0, 0, 0, 0, 0, 1, 0, 0, 0, 0],\n datetime.date(2015, 11, 7): [5, 3, 0, 0, 1, 1, 0, 0, 0, 0, 0, 0, 0, 0, 0, 0],\n datetime.date(2015, 11, 8): [10, 1, 1, 0, 1, 0, 0, 0, 0, 0, 0, 0, 0, 0, 0, 0],\n datetime.date(2015, 11, 9): [9, 3, 0, 1, 1, 0, 0, 0, 0, 0, 0, 0, 0, 0, 0, 0],\n datetime.date(2015, 11, 10): [8, 4, 0, 0, 0, 0, 0, 0, 0, 0, 1, 0, 0, 0, 0, 0],\n datetime.date(2015, 11, 11): [9, 5, 0, 0, 0, 0, 0, 0, 0, 0, 1, 0, 0, 0, 0, 0],\n datetime.date(2015, 11, 12): [8, 6, 0, 0, 0, 1, 0, 0, 0, 0, 1, 0, 0, 0, 0, 0],\n datetime.date(2015, 11, 13): [9, 6, 0, 0, 1, 0, 0, 0, 0, 0, 1, 0, 0, 0, 0, 0],\n datetime.date(2015, 11, 14): [10,\n  6,\n  0,\n  0,\n  0,\n  0,\n  0,\n  0,\n  0,\n  0,\n  1,\n  0,\n  0,\n  0,\n  0,\n  0],\n datetime.date(2015, 11, 15): [13,\n  6,\n  0,\n  0,\n  0,\n  1,\n  0,\n  0,\n  0,\n  0,\n  1,\n  0,\n  0,\n  0,\n  0,\n  0],\n datetime.date(2015, 11, 16): [10,\n  1,\n  0,\n  1,\n  0,\n  0,\n  0,\n  0,\n  0,\n  0,\n  0,\n  0,\n  0,\n  0,\n  0,\n  0],\n datetime.date(2015, 11, 17): [11,\n  2,\n  0,\n  0,\n  1,\n  1,\n  0,\n  0,\n  0,\n  0,\n  0,\n  1,\n  0,\n  0,\n  0,\n  0],\n datetime.date(2015, 11, 18): [6, 3, 0, 0, 1, 0, 0, 0, 0, 0, 0, 0, 0, 0, 0, 0],\n datetime.date(2015, 11, 19): [5, 1, 0, 0, 0, 1, 0, 0, 0, 0, 0, 1, 0, 0, 0, 0],\n datetime.date(2015, 11, 20): [2, 0, 0, 0, 1, 0, 0, 0, 0, 0, 0, 0, 1, 0, 0, 0],\n datetime.date(2015, 11, 21): [1,\n  -2,\n  0,\n  0,\n  0,\n  1,\n  0,\n  0,\n  0,\n  0,\n  0,\n  1,\n  1,\n  0,\n  0,\n  0],\n datetime.date(2015, 11, 22): [-1,\n  -4,\n  0,\n  0,\n  0,\n  0,\n  0,\n  0,\n  0,\n  0,\n  0,\n  1,\n  0,\n  1,\n  0,\n  0],\n datetime.date(2015, 11, 23): [0,\n  -6,\n  1,\n  1,\n  0,\n  0,\n  0,\n  0,\n  0,\n  0,\n  0,\n  0,\n  0,\n  0,\n  0,\n  0],\n datetime.date(2015, 11, 24): [-2,\n  -8,\n  0,\n  1,\n  0,\n  0,\n  0,\n  0,\n  0,\n  0,\n  0,\n  1,\n  0,\n  0,\n  0,\n  0],\n datetime.date(2015, 11, 25): [-1,\n  -9,\n  1,\n  1,\n  0,\n  0,\n  0,\n  0,\n  0,\n  0,\n  0,\n  0,\n  0,\n  0,\n  0,\n  0],\n datetime.date(2015, 11, 26): [0,\n  -8,\n  1,\n  1,\n  0,\n  0,\n  0,\n  0,\n  0,\n  0,\n  0,\n  0,\n  0,\n  0,\n  0,\n  0],\n datetime.date(2015, 11, 27): [0,\n  -5,\n  1,\n  1,\n  0,\n  0,\n  0,\n  0,\n  0,\n  0,\n  0,\n  0,\n  0,\n  0,\n  0,\n  0],\n datetime.date(2015, 11, 28): [1,\n  -4,\n  0,\n  0,\n  0,\n  0,\n  0,\n  0,\n  0,\n  0,\n  1,\n  0,\n  0,\n  0,\n  0,\n  0],\n datetime.date(2015, 11, 29): [5,\n  -5,\n  0,\n  0,\n  0,\n  0,\n  0,\n  0,\n  0,\n  0,\n  1,\n  0,\n  0,\n  0,\n  0,\n  0],\n datetime.date(2015, 11, 30): [4,\n  -3,\n  0,\n  0,\n  0,\n  0,\n  0,\n  0,\n  0,\n  0,\n  1,\n  0,\n  0,\n  0,\n  0,\n  0],\n datetime.date(2015, 12, 1): [2, -3, 1, 0, 0, 0, 0, 0, 0, 0, 1, 0, 0, 0, 0, 0],\n datetime.date(2015, 12, 2): [5, -3, 1, 0, 0, 0, 0, 0, 0, 0, 0, 0, 0, 0, 0, 0],\n datetime.date(2015, 12, 3): [3, -4, 1, 0, 0, 0, 0, 0, 0, 0, 0, 0, 0, 0, 0, 0],\n datetime.date(2015, 12, 4): [6, -5, 1, 0, 0, 0, 0, 0, 0, 0, 0, 0, 0, 0, 0, 0],\n datetime.date(2015, 12, 5): [7, -4, 1, 1, 0, 0, 0, 0, 0, 0, 0, 0, 0, 0, 0, 0],\n datetime.date(2015, 12, 6): [4, -2, 0, 0, 0, 0, 0, 0, 0, 0, 1, 1, 0, 0, 0, 0],\n datetime.date(2015, 12, 7): [5, 0, 0, 0, 0, 0, 0, 0, 0, 0, 1, 0, 0, 0, 0, 0],\n datetime.date(2015, 12, 8): [3, 1, 0, 0, 0, 1, 0, 0, 0, 0, 1, 1, 0, 0, 0, 0],\n datetime.date(2015, 12, 9): [5, 0, 0, 0, 0, 0, 0, 0, 0, 0, 1, 0, 0, 0, 0, 0],\n datetime.date(2015, 12, 10): [9,\n  -4,\n  1,\n  0,\n  0,\n  0,\n  0,\n  0,\n  0,\n  0,\n  0,\n  0,\n  0,\n  0,\n  0,\n  0],\n datetime.date(2015, 12, 11): [6,\n  -3,\n  1,\n  1,\n  0,\n  0,\n  0,\n  0,\n  0,\n  0,\n  0,\n  0,\n  0,\n  0,\n  0,\n  0],\n datetime.date(2015, 12, 12): [5,\n  -3,\n  1,\n  1,\n  0,\n  0,\n  0,\n  0,\n  0,\n  0,\n  0,\n  0,\n  0,\n  0,\n  0,\n  0],\n datetime.date(2015, 12, 13): [4,\n  -1,\n  0,\n  0,\n  0,\n  0,\n  0,\n  0,\n  0,\n  0,\n  1,\n  1,\n  0,\n  0,\n  0,\n  0],\n datetime.date(2015, 12, 14): [7,\n  -2,\n  1,\n  0,\n  0,\n  0,\n  0,\n  0,\n  0,\n  0,\n  1,\n  0,\n  0,\n  0,\n  0,\n  0],\n datetime.date(2015, 12, 15): [4,\n  -3,\n  1,\n  0,\n  0,\n  0,\n  0,\n  0,\n  0,\n  0,\n  0,\n  0,\n  0,\n  0,\n  0,\n  0],\n datetime.date(2015, 12, 16): [2,\n  -7,\n  1,\n  0,\n  0,\n  0,\n  0,\n  0,\n  0,\n  0,\n  0,\n  0,\n  0,\n  0,\n  0,\n  0],\n datetime.date(2015, 12, 17): [4,\n  -6,\n  1,\n  0,\n  0,\n  0,\n  0,\n  0,\n  0,\n  0,\n  0,\n  0,\n  0,\n  0,\n  0,\n  0],\n datetime.date(2015, 12, 18): [6,\n  -5,\n  1,\n  0,\n  0,\n  0,\n  0,\n  0,\n  0,\n  0,\n  0,\n  0,\n  0,\n  0,\n  0,\n  0],\n datetime.date(2015, 12, 19): [4,\n  -3,\n  0,\n  0,\n  0,\n  0,\n  0,\n  0,\n  0,\n  0,\n  1,\n  0,\n  0,\n  0,\n  0,\n  0],\n datetime.date(2015, 12, 20): [4,\n  -5,\n  0,\n  0,\n  0,\n  0,\n  0,\n  0,\n  0,\n  0,\n  1,\n  0,\n  0,\n  0,\n  0,\n  0],\n datetime.date(2015, 12, 21): [5,\n  -4,\n  0,\n  0,\n  0,\n  0,\n  0,\n  0,\n  0,\n  0,\n  1,\n  0,\n  0,\n  0,\n  0,\n  0],\n datetime.date(2015, 12, 22): [4,\n  -5,\n  0,\n  0,\n  0,\n  0,\n  0,\n  0,\n  0,\n  0,\n  1,\n  0,\n  0,\n  0,\n  0,\n  0],\n datetime.date(2015, 12, 23): [6,\n  -5,\n  0,\n  1,\n  0,\n  0,\n  0,\n  0,\n  0,\n  0,\n  1,\n  0,\n  0,\n  0,\n  0,\n  0],\n datetime.date(2015, 12, 24): [6,\n  -6,\n  1,\n  0,\n  0,\n  0,\n  0,\n  0,\n  0,\n  0,\n  0,\n  0,\n  0,\n  0,\n  0,\n  0],\n datetime.date(2015, 12, 25): [1,\n  -4,\n  0,\n  0,\n  0,\n  0,\n  0,\n  0,\n  0,\n  0,\n  1,\n  0,\n  0,\n  0,\n  0,\n  0],\n datetime.date(2015, 12, 26): [3,\n  -6,\n  1,\n  0,\n  0,\n  0,\n  0,\n  0,\n  0,\n  0,\n  1,\n  0,\n  0,\n  0,\n  0,\n  0],\n datetime.date(2015, 12, 27): [-2,\n  -7,\n  1,\n  0,\n  0,\n  0,\n  0,\n  0,\n  0,\n  0,\n  0,\n  1,\n  0,\n  0,\n  0,\n  0],\n datetime.date(2015, 12, 28): [2,\n  -5,\n  1,\n  1,\n  0,\n  0,\n  0,\n  0,\n  0,\n  0,\n  0,\n  0,\n  0,\n  0,\n  0,\n  0],\n datetime.date(2015, 12, 29): [4,\n  -4,\n  1,\n  0,\n  0,\n  0,\n  0,\n  0,\n  0,\n  0,\n  1,\n  0,\n  0,\n  0,\n  0,\n  0],\n datetime.date(2015, 12, 30): [5,\n  -6,\n  1,\n  0,\n  0,\n  0,\n  0,\n  0,\n  0,\n  0,\n  0,\n  0,\n  0,\n  0,\n  0,\n  0],\n datetime.date(2015, 12, 31): [4,\n  -6,\n  1,\n  0,\n  0,\n  0,\n  0,\n  0,\n  0,\n  0,\n  0,\n  0,\n  0,\n  0,\n  0,\n  0],\n datetime.date(2016, 1, 1): [5, -4, 0, 0, 0, 0, 0, 0, 0, 0, 1, 0, 0, 0, 0, 0],\n datetime.date(2016, 1, 2): [6, -4, 0, 0, 0, 0, 0, 0, 0, 0, 1, 0, 0, 0, 0, 0],\n datetime.date(2016, 1, 3): [3, -4, 0, 1, 0, 0, 0, 0, 0, 0, 1, 0, 0, 0, 0, 0],\n datetime.date(2016, 1, 4): [2, -6, 1, 1, 0, 0, 0, 0, 0, 0, 0, 0, 0, 0, 0, 0],\n datetime.date(2016, 1, 5): [1, -7, 1, 0, 0, 0, 0, 0, 0, 0, 0, 0, 0, 0, 0, 0],\n datetime.date(2016, 1, 6): [3, -6, 1, 0, 0, 0, 0, 0, 0, 0, 0, 0, 0, 0, 0, 0],\n datetime.date(2016, 1, 7): [2, -7, 1, 0, 0, 0, 0, 0, 0, 0, 0, 0, 0, 0, 0, 0],\n datetime.date(2016, 1, 8): [2, -8, 1, 0, 0, 0, 0, 0, 0, 0, 0, 0, 0, 0, 0, 0],\n datetime.date(2016, 1, 9): [3, -6, 1, 1, 0, 0, 0, 0, 0, 0, 0, 0, 0, 0, 0, 0],\n datetime.date(2016, 1, 10): [1, -8, 1, 1, 0, 0, 0, 0, 0, 0, 0, 0, 0, 0, 0, 0],\n datetime.date(2016, 1, 11): [-1,\n  -9,\n  1,\n  0,\n  0,\n  0,\n  0,\n  0,\n  0,\n  0,\n  0,\n  0,\n  0,\n  0,\n  0,\n  0],\n datetime.date(2016, 1, 12): [0, -8, 1, 0, 0, 0, 0, 0, 0, 0, 0, 0, 0, 0, 0, 0],\n datetime.date(2016, 1, 13): [2, -7, 1, 1, 0, 0, 0, 0, 0, 0, 0, 0, 0, 0, 0, 0],\n datetime.date(2016, 1, 14): [3, -7, 1, 0, 0, 0, 0, 0, 0, 0, 0, 0, 0, 0, 0, 0],\n datetime.date(2016, 1, 15): [4, -5, 0, 1, 1, 0, 0, 0, 0, 0, 0, 0, 0, 0, 0, 0],\n datetime.date(2016, 1, 16): [-1,\n  -5,\n  0,\n  0,\n  1,\n  1,\n  0,\n  0,\n  0,\n  0,\n  0,\n  0,\n  0,\n  0,\n  0,\n  0],\n datetime.date(2016, 1, 17): [-2,\n  -10,\n  1,\n  0,\n  0,\n  0,\n  0,\n  0,\n  0,\n  0,\n  0,\n  0,\n  0,\n  0,\n  0,\n  0],\n datetime.date(2016, 1, 18): [-4,\n  -12,\n  1,\n  0,\n  0,\n  0,\n  0,\n  0,\n  0,\n  0,\n  0,\n  0,\n  0,\n  0,\n  0,\n  0],\n datetime.date(2016, 1, 19): [-2,\n  -9,\n  1,\n  0,\n  0,\n  0,\n  0,\n  0,\n  0,\n  0,\n  0,\n  0,\n  0,\n  0,\n  0,\n  0],\n datetime.date(2016, 1, 20): [-2,\n  -7,\n  0,\n  1,\n  0,\n  0,\n  0,\n  0,\n  0,\n  0,\n  1,\n  0,\n  0,\n  0,\n  0,\n  0],\n datetime.date(2016, 1, 21): [-2,\n  -9,\n  0,\n  0,\n  1,\n  0,\n  0,\n  0,\n  0,\n  0,\n  0,\n  1,\n  0,\n  0,\n  0,\n  0],\n datetime.date(2016, 1, 22): [-7,\n  -16,\n  1,\n  1,\n  0,\n  0,\n  0,\n  0,\n  0,\n  0,\n  0,\n  0,\n  0,\n  0,\n  0,\n  0],\n datetime.date(2016, 1, 23): [-11,\n  -14,\n  1,\n  0,\n  0,\n  0,\n  0,\n  0,\n  0,\n  0,\n  0,\n  0,\n  0,\n  0,\n  0,\n  0],\n datetime.date(2016, 1, 24): [-3,\n  -11,\n  1,\n  0,\n  0,\n  0,\n  0,\n  0,\n  0,\n  0,\n  0,\n  0,\n  0,\n  0,\n  0,\n  0],\n datetime.date(2016, 1, 25): [3, -8, 1, 0, 0, 0, 0, 0, 0, 0, 0, 0, 0, 0, 0, 0],\n datetime.date(2016, 1, 26): [2, -9, 1, 0, 0, 0, 0, 0, 0, 0, 0, 0, 0, 0, 0, 0],\n datetime.date(2016, 1, 27): [3, -7, 1, 1, 0, 0, 0, 0, 0, 0, 0, 0, 0, 0, 0, 0],\n datetime.date(2016, 1, 28): [4, -7, 1, 1, 0, 0, 0, 0, 0, 0, 0, 0, 0, 0, 0, 0],\n datetime.date(2016, 1, 29): [0, -6, 0, 1, 1, 0, 0, 0, 0, 0, 0, 0, 0, 0, 0, 0],\n datetime.date(2016, 1, 30): [-3,\n  -10,\n  1,\n  1,\n  0,\n  0,\n  0,\n  0,\n  0,\n  0,\n  0,\n  0,\n  0,\n  0,\n  0,\n  0],\n datetime.date(2016, 1, 31): [1, -9, 1, 0, 0, 0, 0, 0, 0, 0, 0, 0, 0, 0, 0, 0],\n datetime.date(2016, 2, 1): [4, -8, 1, 0, 0, 0, 0, 0, 0, 0, 0, 0, 0, 0, 0, 0],\n datetime.date(2016, 2, 2): [5, -7, 1, 0, 0, 0, 0, 0, 0, 0, 0, 0, 0, 0, 0, 0],\n datetime.date(2016, 2, 3): [7, -5, 1, 1, 0, 0, 0, 0, 0, 0, 0, 0, 0, 0, 0, 0],\n datetime.date(2016, 2, 4): [4, -5, 0, 1, 0, 0, 0, 0, 0, 0, 0, 0, 0, 0, 0, 0],\n datetime.date(2016, 2, 5): [4, -4, 1, 0, 0, 0, 0, 0, 0, 0, 0, 0, 0, 0, 0, 0],\n datetime.date(2016, 2, 6): [6, -6, 1, 0, 0, 0, 0, 0, 0, 0, 0, 0, 0, 0, 0, 0],\n datetime.date(2016, 2, 7): [8, -4, 1, 0, 0, 0, 0, 0, 0, 0, 0, 0, 0, 0, 0, 0],\n datetime.date(2016, 2, 8): [12, -3, 1, 0, 0, 0, 0, 0, 0, 0, 0, 0, 0, 0, 0, 0],\n datetime.date(2016, 2, 9): [10, -3, 1, 0, 0, 0, 0, 0, 0, 0, 1, 0, 0, 0, 0, 0],\n datetime.date(2016, 2, 10): [9, 0, 1, 0, 1, 0, 0, 0, 0, 0, 0, 0, 0, 0, 0, 0],\n datetime.date(2016, 2, 11): [6, -1, 0, 0, 1, 1, 0, 0, 0, 0, 0, 0, 0, 0, 0, 0],\n datetime.date(2016, 2, 12): [10, 2, 0, 0, 0, 1, 0, 0, 0, 0, 0, 1, 0, 0, 0, 0],\n datetime.date(2016, 2, 13): [4, -6, 1, 0, 1, 0, 0, 0, 0, 0, 0, 0, 0, 0, 0, 0],\n datetime.date(2016, 2, 14): [1, -6, 1, 0, 0, 0, 0, 0, 0, 0, 0, 0, 0, 0, 0, 0],\n datetime.date(2016, 2, 15): [5, -4, 1, 0, 0, 0, 0, 0, 0, 0, 0, 0, 0, 0, 0, 0],\n datetime.date(2016, 2, 16): [9, -4, 1, 0, 0, 0, 0, 0, 0, 0, 0, 0, 0, 0, 0, 0],\n datetime.date(2016, 2, 17): [9, -2, 1, 0, 0, 0, 0, 0, 0, 0, 0, 0, 0, 0, 0, 0],\n datetime.date(2016, 2, 18): [9, -2, 1, 0, 1, 0, 0, 0, 0, 0, 0, 0, 0, 0, 0, 0],\n datetime.date(2016, 2, 19): [8, -4, 1, 1, 0, 0, 0, 0, 0, 0, 0, 0, 0, 0, 0, 0],\n datetime.date(2016, 2, 20): [4, -6, 1, 0, 0, 0, 0, 0, 0, 0, 0, 0, 0, 0, 0, 0],\n datetime.date(2016, 2, 21): [6, -3, 1, 1, 0, 0, 0, 0, 0, 0, 0, 0, 0, 0, 0, 0],\n datetime.date(2016, 2, 22): [8, -4, 1, 0, 0, 0, 0, 0, 0, 0, 0, 0, 0, 0, 0, 0],\n datetime.date(2016, 2, 23): [4, -6, 1, 0, 0, 0, 0, 0, 0, 0, 0, 0, 0, 0, 0, 0],\n datetime.date(2016, 2, 24): [7, -3, 1, 1, 0, 0, 0, 0, 0, 0, 0, 0, 0, 0, 0, 0],\n datetime.date(2016, 2, 25): [6, -5, 1, 0, 0, 0, 0, 0, 0, 0, 0, 0, 0, 0, 0, 0],\n datetime.date(2016, 2, 26): [8, -2, 1, 1, 0, 0, 0, 0, 0, 0, 0, 0, 0, 0, 0, 0],\n datetime.date(2016, 2, 27): [7, -2, 0, 1, 1, 0, 0, 0, 0, 0, 0, 0, 0, 0, 0, 0],\n datetime.date(2016, 2, 28): [8, -4, 1, 0, 0, 0, 0, 0, 0, 0, 0, 0, 0, 0, 0, 0],\n datetime.date(2016, 2, 29): [5, -4, 1, 1, 0, 0, 0, 0, 0, 0, 0, 0, 0, 0, 0, 0],\n datetime.date(2016, 3, 1): [10, -2, 1, 0, 0, 0, 0, 0, 0, 0, 0, 0, 0, 0, 0, 0],\n datetime.date(2016, 3, 2): [17, 2, 1, 1, 0, 0, 0, 0, 0, 0, 0, 0, 0, 0, 0, 0],\n datetime.date(2016, 3, 3): [16, 3, 0, 1, 0, 0, 0, 0, 0, 0, 1, 0, 0, 0, 0, 0],\n datetime.date(2016, 3, 4): [11, 5, 1, 0, 0, 0, 0, 0, 0, 0, 1, 0, 0, 0, 0, 0],\n datetime.date(2016, 3, 5): [12, -1, 1, 0, 0, 0, 0, 0, 0, 0, 0, 0, 0, 0, 0, 1],\n datetime.date(2016, 3, 6): [11, -2, 1, 1, 0, 0, 0, 0, 0, 0, 0, 0, 0, 0, 0, 0],\n datetime.date(2016, 3, 7): [12, -1, 1, 1, 0, 0, 0, 0, 0, 0, 0, 0, 0, 0, 0, 0],\n datetime.date(2016, 3, 8): [6, -2, 1, 1, 0, 0, 0, 0, 0, 0, 0, 0, 0, 0, 0, 0],\n datetime.date(2016, 3, 9): [6, -4, 1, 1, 0, 0, 0, 0, 0, 0, 0, 0, 0, 0, 0, 0],\n datetime.date(2016, 3, 10): [7, -4, 1, 0, 0, 0, 0, 0, 0, 0, 0, 0, 0, 0, 0, 0],\n datetime.date(2016, 3, 11): [8, -2, 1, 1, 0, 0, 0, 0, 0, 0, 0, 0, 0, 0, 0, 0],\n datetime.date(2016, 3, 12): [9, 2, 1, 1, 0, 0, 0, 0, 0, 0, 0, 0, 0, 0, 0, 0],\n datetime.date(2016, 3, 13): [12,\n  -2,\n  1,\n  0,\n  0,\n  0,\n  0,\n  0,\n  0,\n  0,\n  0,\n  0,\n  0,\n  0,\n  0,\n  0],\n datetime.date(2016, 3, 14): [15, 3, 1, 1, 0, 0, 0, 0, 0, 0, 0, 0, 0, 0, 0, 0],\n datetime.date(2016, 3, 15): [14, 2, 0, 1, 0, 0, 0, 0, 0, 0, 1, 0, 0, 0, 0, 0],\n datetime.date(2016, 3, 16): [17, 6, 0, 0, 0, 0, 0, 0, 0, 0, 1, 0, 0, 0, 0, 0],\n datetime.date(2016, 3, 17): [18, 6, 0, 0, 0, 0, 0, 0, 0, 0, 1, 0, 0, 0, 0, 0],\n datetime.date(2016, 3, 18): [21, 5, 0, 1, 0, 0, 0, 0, 0, 0, 1, 0, 0, 0, 0, 0],\n datetime.date(2016, 3, 19): [16, 3, 0, 1, 0, 0, 0, 0, 0, 0, 0, 0, 0, 0, 0, 0],\n datetime.date(2016, 3, 20): [17, 4, 1, 0, 0, 0, 0, 0, 0, 0, 0, 0, 0, 0, 0, 0],\n datetime.date(2016, 3, 21): [20, 7, 1, 1, 0, 0, 0, 0, 0, 0, 0, 0, 0, 0, 0, 0],\n datetime.date(2016, 3, 22): [14, 5, 1, 0, 1, 0, 0, 0, 0, 0, 0, 0, 0, 0, 0, 0],\n datetime.date(2016, 3, 23): [15, 3, 1, 0, 0, 0, 0, 0, 0, 0, 0, 0, 0, 0, 0, 0],\n datetime.date(2016, 3, 24): [15, 3, 1, 0, 0, 0, 0, 0, 0, 0, 0, 0, 0, 0, 0, 0],\n datetime.date(2016, 3, 25): [15, 3, 1, 0, 0, 0, 0, 0, 0, 0, 0, 0, 0, 0, 0, 0],\n datetime.date(2016, 3, 26): [19, 5, 1, 0, 0, 0, 0, 0, 0, 0, 0, 0, 0, 0, 0, 0],\n datetime.date(2016, 3, 27): [21, 5, 1, 1, 0, 0, 0, 0, 0, 0, 0, 0, 0, 0, 0, 0],\n datetime.date(2016, 3, 28): [22, 8, 1, 1, 0, 0, 0, 0, 0, 0, 0, 0, 0, 0, 0, 0],\n datetime.date(2016, 3, 29): [22, 7, 1, 0, 0, 0, 0, 0, 0, 0, 0, 0, 0, 0, 0, 0],\n datetime.date(2016, 3, 30): [22, 7, 1, 0, 0, 0, 0, 0, 0, 0, 0, 0, 0, 0, 0, 0],\n datetime.date(2016, 3, 31): [23,\n  13,\n  1,\n  0,\n  1,\n  0,\n  0,\n  0,\n  0,\n  0,\n  0,\n  0,\n  0,\n  0,\n  0,\n  0],\n datetime.date(2016, 4, 1): [23, 11, 1, 1, 0, 0, 0, 0, 0, 0, 0, 0, 0, 0, 0, 0],\n datetime.date(2016, 4, 2): [18, 8, 0, 1, 0, 0, 0, 0, 0, 0, 0, 0, 0, 0, 0, 0],\n datetime.date(2016, 4, 3): [19, 6, 1, 0, 0, 0, 0, 0, 0, 0, 0, 0, 0, 0, 0, 0],\n datetime.date(2016, 4, 4): [22, 8, 1, 0, 0, 0, 0, 0, 0, 0, 0, 0, 0, 0, 0, 0],\n datetime.date(2016, 4, 5): [24, 11, 1, 0, 1, 0, 0, 0, 0, 0, 0, 0, 0, 0, 0, 0],\n datetime.date(2016, 4, 6): [22, 12, 0, 0, 0, 0, 0, 0, 1, 0, 0, 0, 0, 0, 0, 0],\n datetime.date(2016, 4, 7): [24, 8, 1, 0, 0, 0, 0, 0, 0, 0, 0, 0, 0, 0, 0, 0],\n datetime.date(2016, 4, 8): [25, 10, 1, 0, 0, 0, 0, 0, 0, 0, 0, 0, 0, 0, 0, 0],\n datetime.date(2016, 4, 9): [26, 8, 1, 0, 0, 0, 0, 0, 0, 0, 0, 0, 0, 0, 0, 0],\n datetime.date(2016, 4, 10): [19, 5, 1, 0, 0, 0, 0, 0, 0, 0, 0, 0, 0, 0, 0, 0],\n datetime.date(2016, 4, 11): [17, 8, 0, 0, 1, 1, 0, 0, 0, 0, 0, 0, 0, 0, 0, 0],\n datetime.date(2016, 4, 12): [19, 8, 1, 1, 0, 0, 0, 0, 0, 0, 0, 0, 0, 0, 0, 0],\n datetime.date(2016, 4, 13): [26,\n  11,\n  1,\n  0,\n  0,\n  0,\n  0,\n  0,\n  0,\n  0,\n  0,\n  0,\n  0,\n  0,\n  0,\n  0],\n datetime.date(2016, 4, 14): [24,\n  10,\n  1,\n  1,\n  0,\n  0,\n  0,\n  0,\n  0,\n  0,\n  0,\n  0,\n  0,\n  0,\n  0,\n  0],\n datetime.date(2016, 4, 15): [23,\n  13,\n  0,\n  0,\n  0,\n  1,\n  0,\n  0,\n  1,\n  0,\n  0,\n  0,\n  0,\n  0,\n  0,\n  0],\n datetime.date(2016, 4, 16): [22,\n  11,\n  1,\n  1,\n  0,\n  0,\n  0,\n  0,\n  0,\n  0,\n  0,\n  0,\n  0,\n  0,\n  0,\n  0],\n datetime.date(2016, 4, 17): [20,\n  10,\n  1,\n  0,\n  1,\n  0,\n  0,\n  0,\n  0,\n  0,\n  0,\n  0,\n  0,\n  0,\n  0,\n  0],\n datetime.date(2016, 4, 18): [21, 8, 1, 0, 1, 0, 0, 0, 0, 0, 0, 0, 0, 0, 0, 0],\n datetime.date(2016, 4, 19): [15, 8, 0, 0, 1, 1, 0, 0, 0, 0, 0, 0, 0, 0, 0, 0],\n datetime.date(2016, 4, 20): [26,\n  10,\n  1,\n  0,\n  0,\n  0,\n  0,\n  0,\n  0,\n  0,\n  0,\n  0,\n  0,\n  0,\n  0,\n  0],\n datetime.date(2016, 4, 21): [30,\n  15,\n  1,\n  0,\n  0,\n  0,\n  0,\n  0,\n  0,\n  0,\n  0,\n  0,\n  0,\n  0,\n  0,\n  0],\n datetime.date(2016, 4, 22): [25,\n  11,\n  1,\n  0,\n  0,\n  0,\n  0,\n  0,\n  0,\n  0,\n  0,\n  0,\n  0,\n  0,\n  0,\n  0],\n datetime.date(2016, 4, 23): [23, 8, 1, 0, 0, 0, 0, 0, 0, 0, 0, 0, 0, 0, 0, 0],\n datetime.date(2016, 4, 24): [27,\n  17,\n  1,\n  0,\n  0,\n  0,\n  0,\n  0,\n  0,\n  0,\n  0,\n  0,\n  0,\n  0,\n  0,\n  0],\n datetime.date(2016, 4, 25): [29,\n  14,\n  1,\n  1,\n  0,\n  0,\n  0,\n  0,\n  0,\n  0,\n  0,\n  0,\n  0,\n  0,\n  0,\n  0],\n datetime.date(2016, 4, 26): [24,\n  14,\n  0,\n  1,\n  1,\n  0,\n  0,\n  0,\n  0,\n  0,\n  0,\n  0,\n  0,\n  0,\n  0,\n  0],\n datetime.date(2016, 4, 27): [19,\n  12,\n  0,\n  0,\n  1,\n  1,\n  0,\n  0,\n  0,\n  0,\n  0,\n  0,\n  0,\n  0,\n  0,\n  0],\n datetime.date(2016, 4, 28): [26,\n  13,\n  0,\n  1,\n  0,\n  0,\n  0,\n  0,\n  0,\n  0,\n  0,\n  0,\n  0,\n  0,\n  0,\n  0],\n datetime.date(2016, 4, 29): [28,\n  15,\n  1,\n  1,\n  0,\n  0,\n  0,\n  0,\n  0,\n  0,\n  0,\n  0,\n  0,\n  0,\n  0,\n  0],\n datetime.date(2016, 4, 30): [31,\n  15,\n  0,\n  1,\n  0,\n  0,\n  0,\n  0,\n  0,\n  0,\n  1,\n  0,\n  0,\n  0,\n  0,\n  0],\n datetime.date(2016, 5, 1): [32, 18, 0, 0, 0, 0, 0, 0, 1, 0, 1, 0, 0, 0, 0, 0],\n datetime.date(2016, 5, 2): [18, 12, 0, 1, 0, 0, 0, 0, 1, 0, 0, 0, 0, 0, 0, 0],\n datetime.date(2016, 5, 3): [27, 10, 1, 0, 0, 0, 0, 0, 0, 0, 0, 0, 0, 0, 0, 0],\n datetime.date(2016, 5, 4): [28, 15, 0, 1, 0, 0, 0, 0, 1, 0, 0, 0, 0, 0, 0, 0],\n datetime.date(2016, 5, 5): [27, 16, 1, 1, 0, 0, 0, 0, 0, 0, 0, 0, 0, 0, 0, 0],\n datetime.date(2016, 5, 6): [25, 13, 1, 0, 0, 0, 0, 0, 0, 0, 0, 0, 0, 0, 0, 0],\n datetime.date(2016, 5, 7): [28, 12, 1, 0, 0, 0, 0, 0, 0, 0, 0, 0, 0, 0, 0, 0],\n datetime.date(2016, 5, 8): [27, 15, 1, 0, 1, 0, 0, 0, 0, 0, 0, 0, 0, 0, 0, 0],\n datetime.date(2016, 5, 9): [22, 12, 0, 1, 0, 1, 0, 0, 0, 0, 0, 0, 0, 0, 0, 0],\n datetime.date(2016, 5, 10): [28,\n  17,\n  1,\n  1,\n  0,\n  0,\n  0,\n  0,\n  0,\n  0,\n  0,\n  0,\n  0,\n  0,\n  0,\n  0],\n datetime.date(2016, 5, 11): [29,\n  19,\n  0,\n  1,\n  0,\n  0,\n  0,\n  0,\n  1,\n  0,\n  0,\n  0,\n  0,\n  0,\n  0,\n  0],\n datetime.date(2016, 5, 12): [23, 9, 1, 0, 1, 0, 0, 0, 0, 0, 0, 0, 0, 0, 0, 0],\n datetime.date(2016, 5, 13): [25,\n  13,\n  1,\n  0,\n  0,\n  0,\n  0,\n  0,\n  1,\n  0,\n  0,\n  0,\n  0,\n  0,\n  0,\n  0],\n datetime.date(2016, 5, 14): [14,\n  11,\n  0,\n  0,\n  0,\n  1,\n  0,\n  0,\n  0,\n  0,\n  0,\n  0,\n  0,\n  0,\n  0,\n  0],\n datetime.date(2016, 5, 15): [25,\n  10,\n  1,\n  0,\n  0,\n  0,\n  0,\n  0,\n  0,\n  0,\n  0,\n  0,\n  0,\n  0,\n  0,\n  0],\n datetime.date(2016, 5, 16): [30,\n  16,\n  1,\n  0,\n  0,\n  0,\n  0,\n  0,\n  0,\n  0,\n  0,\n  0,\n  0,\n  0,\n  0,\n  0],\n datetime.date(2016, 5, 17): [31,\n  17,\n  1,\n  0,\n  0,\n  0,\n  0,\n  0,\n  0,\n  0,\n  0,\n  0,\n  0,\n  0,\n  0,\n  0],\n datetime.date(2016, 5, 18): [29,\n  18,\n  1,\n  1,\n  0,\n  0,\n  0,\n  0,\n  0,\n  0,\n  0,\n  0,\n  0,\n  0,\n  0,\n  0],\n datetime.date(2016, 5, 19): [29,\n  15,\n  1,\n  0,\n  0,\n  0,\n  0,\n  0,\n  0,\n  0,\n  0,\n  0,\n  0,\n  0,\n  0,\n  0],\n datetime.date(2016, 5, 20): [29,\n  16,\n  1,\n  0,\n  0,\n  0,\n  0,\n  0,\n  0,\n  0,\n  1,\n  0,\n  0,\n  0,\n  0,\n  0],\n datetime.date(2016, 5, 21): [30,\n  15,\n  1,\n  0,\n  0,\n  0,\n  0,\n  0,\n  0,\n  0,\n  1,\n  0,\n  0,\n  0,\n  0,\n  0],\n datetime.date(2016, 5, 22): [29,\n  18,\n  1,\n  1,\n  0,\n  0,\n  0,\n  0,\n  0,\n  0,\n  0,\n  0,\n  0,\n  0,\n  0,\n  0],\n datetime.date(2016, 5, 23): [24,\n  13,\n  0,\n  0,\n  0,\n  0,\n  0,\n  0,\n  1,\n  0,\n  0,\n  0,\n  0,\n  0,\n  0,\n  0],\n datetime.date(2016, 5, 24): [29,\n  17,\n  1,\n  0,\n  1,\n  0,\n  0,\n  0,\n  0,\n  0,\n  0,\n  0,\n  0,\n  0,\n  0,\n  0],\n datetime.date(2016, 5, 25): [28,\n  17,\n  1,\n  1,\n  0,\n  0,\n  0,\n  0,\n  0,\n  0,\n  0,\n  0,\n  0,\n  0,\n  0,\n  0],\n datetime.date(2016, 5, 26): [30,\n  16,\n  1,\n  0,\n  0,\n  0,\n  0,\n  0,\n  0,\n  0,\n  0,\n  0,\n  0,\n  0,\n  0,\n  0],\n datetime.date(2016, 5, 27): [31,\n  18,\n  1,\n  1,\n  0,\n  0,\n  0,\n  0,\n  0,\n  0,\n  0,\n  0,\n  0,\n  0,\n  0,\n  0],\n datetime.date(2016, 5, 28): [30,\n  17,\n  1,\n  1,\n  0,\n  0,\n  0,\n  0,\n  0,\n  0,\n  0,\n  0,\n  0,\n  0,\n  0,\n  0],\n datetime.date(2016, 5, 29): [31,\n  17,\n  1,\n  0,\n  0,\n  0,\n  0,\n  0,\n  0,\n  0,\n  0,\n  0,\n  0,\n  0,\n  0,\n  0],\n datetime.date(2016, 5, 30): [34,\n  23,\n  0,\n  1,\n  1,\n  0,\n  0,\n  0,\n  0,\n  0,\n  0,\n  0,\n  0,\n  0,\n  0,\n  0],\n datetime.date(2016, 5, 31): [28,\n  17,\n  0,\n  1,\n  0,\n  0,\n  0,\n  0,\n  0,\n  0,\n  0,\n  0,\n  0,\n  0,\n  0,\n  0],\n datetime.date(2016, 6, 1): [30, 18, 0, 1, 0, 0, 0, 0, 0, 0, 0, 0, 0, 0, 0, 0],\n datetime.date(2016, 6, 2): [31, 20, 1, 1, 0, 0, 0, 0, 0, 0, 0, 0, 0, 0, 0, 0],\n datetime.date(2016, 6, 3): [29, 19, 0, 0, 1, 0, 0, 0, 0, 0, 0, 0, 0, 0, 0, 0],\n datetime.date(2016, 6, 4): [30, 19, 0, 0, 1, 0, 0, 0, 0, 0, 0, 0, 0, 0, 0, 0],\n datetime.date(2016, 6, 5): [30, 18, 0, 1, 0, 0, 0, 0, 0, 0, 0, 0, 0, 0, 0, 0],\n datetime.date(2016, 6, 6): [31, 20, 0, 1, 0, 0, 0, 0, 1, 0, 0, 0, 0, 0, 0, 0],\n datetime.date(2016, 6, 7): [26, 16, 1, 1, 0, 0, 0, 0, 0, 0, 0, 0, 0, 0, 0, 0],\n datetime.date(2016, 6, 8): [31, 19, 0, 1, 0, 0, 0, 0, 0, 0, 0, 0, 0, 0, 0, 0],\n datetime.date(2016, 6, 9): [32, 22, 0, 0, 1, 0, 0, 0, 1, 0, 0, 0, 0, 0, 0, 0],\n datetime.date(2016, 6, 10): [31,\n  20,\n  1,\n  0,\n  0,\n  0,\n  0,\n  0,\n  1,\n  0,\n  0,\n  0,\n  0,\n  0,\n  0,\n  0],\n datetime.date(2016, 6, 11): [30,\n  18,\n  1,\n  1,\n  0,\n  0,\n  0,\n  0,\n  0,\n  0,\n  0,\n  0,\n  0,\n  0,\n  0,\n  0],\n datetime.date(2016, 6, 12): [31,\n  20,\n  0,\n  1,\n  1,\n  0,\n  0,\n  0,\n  0,\n  0,\n  0,\n  0,\n  0,\n  0,\n  0,\n  0],\n datetime.date(2016, 6, 13): [22,\n  18,\n  0,\n  0,\n  0,\n  0,\n  1,\n  1,\n  1,\n  0,\n  0,\n  0,\n  0,\n  0,\n  0,\n  0],\n datetime.date(2016, 6, 14): [24,\n  18,\n  0,\n  0,\n  1,\n  0,\n  0,\n  0,\n  1,\n  0,\n  0,\n  0,\n  0,\n  0,\n  0,\n  0],\n datetime.date(2016, 6, 15): [31,\n  17,\n  1,\n  0,\n  0,\n  0,\n  0,\n  0,\n  0,\n  0,\n  0,\n  0,\n  0,\n  0,\n  0,\n  0],\n datetime.date(2016, 6, 16): [34,\n  22,\n  1,\n  1,\n  0,\n  0,\n  0,\n  0,\n  0,\n  0,\n  0,\n  0,\n  0,\n  0,\n  0,\n  0],\n datetime.date(2016, 6, 17): [32,\n  20,\n  0,\n  1,\n  0,\n  0,\n  0,\n  0,\n  1,\n  0,\n  0,\n  0,\n  0,\n  0,\n  0,\n  0],\n datetime.date(2016, 6, 18): [33,\n  21,\n  1,\n  1,\n  0,\n  0,\n  0,\n  0,\n  0,\n  0,\n  0,\n  0,\n  0,\n  0,\n  0,\n  0],\n datetime.date(2016, 6, 19): [35,\n  24,\n  0,\n  1,\n  0,\n  0,\n  0,\n  0,\n  1,\n  0,\n  0,\n  0,\n  0,\n  0,\n  0,\n  0],\n datetime.date(2016, 6, 20): [33,\n  22,\n  0,\n  0,\n  0,\n  0,\n  0,\n  0,\n  1,\n  0,\n  0,\n  0,\n  0,\n  0,\n  0,\n  0],\n datetime.date(2016, 6, 21): [34,\n  23,\n  0,\n  0,\n  0,\n  0,\n  0,\n  0,\n  1,\n  0,\n  0,\n  0,\n  0,\n  0,\n  0,\n  0],\n datetime.date(2016, 6, 23): [35,\n  20,\n  0,\n  1,\n  1,\n  0,\n  0,\n  0,\n  0,\n  0,\n  0,\n  0,\n  0,\n  0,\n  0,\n  0],\n datetime.date(2016, 6, 24): [33,\n  21,\n  1,\n  0,\n  1,\n  0,\n  0,\n  0,\n  0,\n  0,\n  0,\n  0,\n  0,\n  0,\n  0,\n  0],\n datetime.date(2016, 6, 25): [35,\n  22,\n  1,\n  0,\n  0,\n  0,\n  0,\n  0,\n  0,\n  0,\n  0,\n  0,\n  0,\n  0,\n  0,\n  0],\n datetime.date(2016, 6, 26): [36,\n  24,\n  1,\n  0,\n  1,\n  0,\n  0,\n  0,\n  0,\n  0,\n  0,\n  0,\n  0,\n  0,\n  0,\n  0],\n datetime.date(2016, 6, 27): [32,\n  21,\n  0,\n  0,\n  0,\n  0,\n  0,\n  0,\n  1,\n  0,\n  0,\n  0,\n  0,\n  0,\n  0,\n  0],\n datetime.date(2016, 6, 28): [23,\n  20,\n  0,\n  0,\n  0,\n  0,\n  0,\n  0,\n  1,\n  0,\n  0,\n  0,\n  0,\n  0,\n  0,\n  0],\n datetime.date(2016, 6, 29): [29,\n  22,\n  0,\n  0,\n  0,\n  0,\n  0,\n  0,\n  1,\n  0,\n  0,\n  0,\n  0,\n  0,\n  0,\n  0],\n datetime.date(2016, 6, 30): [31,\n  22,\n  0,\n  1,\n  0,\n  0,\n  0,\n  0,\n  1,\n  0,\n  0,\n  0,\n  0,\n  0,\n  0,\n  0],\n datetime.date(2016, 7, 1): [32, 21, 1, 1, 0, 0, 0, 0, 0, 0, 0, 0, 0, 0, 0, 0],\n datetime.date(2016, 7, 2): [33, 21, 1, 1, 0, 0, 0, 0, 0, 0, 0, 0, 0, 0, 0, 0],\n datetime.date(2016, 7, 3): [31, 23, 0, 0, 1, 0, 0, 0, 1, 0, 0, 0, 0, 0, 0, 0],\n datetime.date(2016, 7, 4): [30, 20, 0, 1, 0, 0, 0, 0, 0, 0, 1, 0, 0, 0, 0, 0],\n datetime.date(2016, 7, 5): [32, 22, 0, 1, 0, 0, 0, 0, 0, 0, 1, 0, 0, 0, 0, 0],\n datetime.date(2016, 7, 6): [32, 22, 1, 0, 0, 0, 0, 0, 0, 0, 1, 0, 0, 0, 0, 0],\n datetime.date(2016, 7, 7): [33, 23, 1, 0, 0, 0, 0, 0, 0, 0, 1, 0, 0, 0, 0, 0],\n datetime.date(2016, 7, 8): [32, 24, 0, 1, 0, 0, 0, 0, 0, 0, 1, 0, 0, 0, 0, 0],\n datetime.date(2016, 7, 9): [34, 25, 0, 1, 0, 0, 0, 0, 0, 0, 1, 0, 0, 0, 0, 0],\n datetime.date(2016, 7, 10): [36,\n  26,\n  0,\n  1,\n  0,\n  0,\n  0,\n  0,\n  0,\n  0,\n  1,\n  0,\n  0,\n  0,\n  0,\n  0],\n datetime.date(2016, 7, 11): [36,\n  24,\n  0,\n  1,\n  0,\n  0,\n  0,\n  0,\n  1,\n  0,\n  0,\n  0,\n  0,\n  0,\n  0,\n  0],\n datetime.date(2016, 7, 12): [28,\n  23,\n  1,\n  0,\n  0,\n  0,\n  0,\n  0,\n  1,\n  0,\n  0,\n  0,\n  0,\n  0,\n  0,\n  0],\n datetime.date(2016, 7, 13): [35,\n  23,\n  1,\n  1,\n  0,\n  0,\n  0,\n  0,\n  0,\n  0,\n  0,\n  0,\n  0,\n  0,\n  0,\n  0],\n datetime.date(2016, 7, 14): [31,\n  22,\n  0,\n  0,\n  0,\n  0,\n  0,\n  0,\n  1,\n  0,\n  0,\n  0,\n  0,\n  0,\n  0,\n  0],\n datetime.date(2016, 7, 15): [28,\n  21,\n  0,\n  1,\n  0,\n  0,\n  0,\n  0,\n  1,\n  0,\n  0,\n  0,\n  0,\n  0,\n  0,\n  0],\n datetime.date(2016, 7, 16): [28,\n  22,\n  0,\n  1,\n  0,\n  0,\n  0,\n  0,\n  1,\n  0,\n  0,\n  0,\n  0,\n  0,\n  0,\n  0],\n datetime.date(2016, 7, 17): [32,\n  23,\n  1,\n  1,\n  0,\n  0,\n  0,\n  0,\n  0,\n  0,\n  0,\n  0,\n  0,\n  0,\n  0,\n  0],\n datetime.date(2016, 7, 18): [31,\n  24,\n  0,\n  1,\n  1,\n  0,\n  0,\n  0,\n  0,\n  0,\n  0,\n  0,\n  0,\n  0,\n  0,\n  0],\n datetime.date(2016, 7, 19): [26,\n  22,\n  0,\n  0,\n  0,\n  0,\n  1,\n  1,\n  0,\n  0,\n  0,\n  0,\n  0,\n  0,\n  0,\n  0],\n datetime.date(2016, 7, 20): [23,\n  21,\n  0,\n  0,\n  0,\n  0,\n  0,\n  0,\n  0,\n  1,\n  0,\n  0,\n  0,\n  0,\n  0,\n  0],\n datetime.date(2016, 7, 21): [28,\n  23,\n  0,\n  0,\n  0,\n  0,\n  0,\n  0,\n  1,\n  0,\n  0,\n  0,\n  0,\n  0,\n  0,\n  0],\n datetime.date(2016, 7, 22): [31,\n  25,\n  0,\n  1,\n  0,\n  0,\n  0,\n  0,\n  0,\n  0,\n  0,\n  0,\n  0,\n  0,\n  0,\n  0],\n datetime.date(2016, 7, 23): [33,\n  26,\n  0,\n  0,\n  0,\n  0,\n  0,\n  0,\n  1,\n  0,\n  0,\n  0,\n  0,\n  0,\n  0,\n  0],\n datetime.date(2016, 7, 24): [33,\n  24,\n  0,\n  0,\n  0,\n  0,\n  0,\n  0,\n  1,\n  0,\n  0,\n  0,\n  0,\n  0,\n  0,\n  0],\n datetime.date(2016, 7, 25): [29,\n  23,\n  0,\n  0,\n  0,\n  0,\n  0,\n  0,\n  1,\n  0,\n  0,\n  0,\n  0,\n  0,\n  0,\n  0],\n datetime.date(2016, 7, 26): [33,\n  24,\n  1,\n  0,\n  0,\n  0,\n  0,\n  0,\n  0,\n  0,\n  0,\n  0,\n  0,\n  0,\n  0,\n  0],\n datetime.date(2016, 7, 27): [34,\n  25,\n  0,\n  1,\n  0,\n  0,\n  0,\n  0,\n  0,\n  0,\n  0,\n  0,\n  0,\n  0,\n  0,\n  0],\n datetime.date(2016, 7, 28): [33,\n  23,\n  0,\n  0,\n  0,\n  0,\n  0,\n  0,\n  1,\n  0,\n  0,\n  0,\n  0,\n  0,\n  0,\n  0],\n datetime.date(2016, 7, 29): [32,\n  25,\n  0,\n  1,\n  0,\n  0,\n  0,\n  0,\n  0,\n  0,\n  0,\n  0,\n  0,\n  0,\n  0,\n  0],\n datetime.date(2016, 7, 30): [29,\n  25,\n  0,\n  0,\n  0,\n  0,\n  0,\n  0,\n  1,\n  0,\n  0,\n  0,\n  0,\n  0,\n  0,\n  0],\n datetime.date(2016, 7, 31): [32,\n  24,\n  0,\n  0,\n  1,\n  0,\n  0,\n  0,\n  0,\n  0,\n  0,\n  0,\n  0,\n  0,\n  0,\n  0],\n datetime.date(2016, 8, 1): [30, 24, 0, 0, 1, 0, 0, 0, 0, 0, 0, 0, 0, 0, 0, 0],\n datetime.date(2016, 8, 2): [33, 24, 1, 0, 0, 0, 0, 0, 0, 0, 0, 0, 0, 0, 0, 0],\n datetime.date(2016, 8, 3): [34, 25, 1, 0, 0, 0, 0, 0, 0, 0, 0, 0, 0, 0, 0, 0],\n datetime.date(2016, 8, 4): [33, 25, 0, 1, 0, 0, 0, 0, 0, 0, 0, 0, 0, 0, 0, 0],\n datetime.date(2016, 8, 5): [32, 25, 0, 1, 0, 0, 0, 0, 0, 0, 0, 0, 0, 0, 0, 0],\n datetime.date(2016, 8, 6): [33, 24, 0, 1, 0, 0, 0, 0, 0, 0, 0, 0, 0, 0, 0, 0],\n datetime.date(2016, 8, 7): [31, 23, 1, 0, 0, 0, 0, 0, 0, 0, 0, 0, 0, 0, 0, 0],\n datetime.date(2016, 8, 8): [32, 24, 1, 0, 0, 0, 0, 0, 0, 0, 0, 0, 0, 0, 0, 0],\n datetime.date(2016, 8, 9): [33, 25, 1, 0, 0, 0, 0, 0, 0, 0, 0, 0, 0, 0, 0, 0],\n datetime.date(2016, 8, 10): [33,\n  26,\n  0,\n  1,\n  0,\n  0,\n  0,\n  0,\n  0,\n  0,\n  0,\n  0,\n  0,\n  0,\n  0,\n  0],\n datetime.date(2016, 8, 11): [34,\n  27,\n  0,\n  1,\n  0,\n  0,\n  0,\n  0,\n  0,\n  0,\n  0,\n  0,\n  0,\n  0,\n  0,\n  0],\n datetime.date(2016, 8, 12): [29,\n  25,\n  0,\n  0,\n  0,\n  0,\n  1,\n  0,\n  0,\n  0,\n  0,\n  0,\n  0,\n  0,\n  0,\n  0],\n datetime.date(2016, 8, 13): [31,\n  24,\n  0,\n  0,\n  0,\n  0,\n  0,\n  0,\n  1,\n  0,\n  0,\n  0,\n  0,\n  0,\n  0,\n  0],\n datetime.date(2016, 8, 14): [33,\n  24,\n  0,\n  1,\n  0,\n  0,\n  0,\n  0,\n  0,\n  0,\n  0,\n  0,\n  0,\n  0,\n  0,\n  0],\n datetime.date(2016, 8, 15): [29,\n  21,\n  0,\n  0,\n  0,\n  0,\n  0,\n  0,\n  1,\n  0,\n  0,\n  0,\n  0,\n  0,\n  0,\n  0],\n datetime.date(2016, 8, 16): [31,\n  23,\n  1,\n  0,\n  0,\n  0,\n  0,\n  0,\n  0,\n  0,\n  0,\n  0,\n  0,\n  0,\n  0,\n  0],\n datetime.date(2016, 8, 17): [28,\n  23,\n  0,\n  0,\n  0,\n  0,\n  0,\n  0,\n  1,\n  0,\n  0,\n  0,\n  0,\n  0,\n  0,\n  0],\n datetime.date(2016, 8, 18): [24,\n  22,\n  0,\n  0,\n  0,\n  1,\n  1,\n  0,\n  0,\n  0,\n  0,\n  0,\n  0,\n  0,\n  0,\n  0],\n datetime.date(2016, 8, 19): [32,\n  22,\n  1,\n  0,\n  0,\n  0,\n  0,\n  0,\n  0,\n  0,\n  0,\n  0,\n  0,\n  0,\n  0,\n  0],\n datetime.date(2016, 8, 20): [31,\n  23,\n  0,\n  1,\n  0,\n  0,\n  0,\n  0,\n  0,\n  0,\n  0,\n  0,\n  0,\n  0,\n  0,\n  0],\n datetime.date(2016, 8, 21): [34,\n  23,\n  1,\n  0,\n  0,\n  0,\n  0,\n  0,\n  0,\n  0,\n  0,\n  0,\n  0,\n  0,\n  0,\n  0],\n datetime.date(2016, 8, 22): [32,\n  23,\n  0,\n  1,\n  0,\n  0,\n  0,\n  0,\n  0,\n  0,\n  0,\n  0,\n  0,\n  0,\n  0,\n  0],\n datetime.date(2016, 8, 23): [30,\n  24,\n  0,\n  0,\n  0,\n  0,\n  0,\n  0,\n  1,\n  0,\n  0,\n  0,\n  0,\n  0,\n  0,\n  0],\n datetime.date(2016, 8, 24): [31,\n  24,\n  0,\n  0,\n  0,\n  0,\n  0,\n  0,\n  1,\n  0,\n  0,\n  0,\n  0,\n  0,\n  0,\n  0],\n datetime.date(2016, 8, 25): [30,\n  18,\n  0,\n  1,\n  0,\n  0,\n  0,\n  0,\n  0,\n  0,\n  0,\n  0,\n  0,\n  0,\n  0,\n  0],\n datetime.date(2016, 8, 26): [29,\n  17,\n  1,\n  0,\n  0,\n  0,\n  0,\n  0,\n  0,\n  0,\n  0,\n  0,\n  0,\n  0,\n  0,\n  0],\n datetime.date(2016, 8, 27): [32,\n  20,\n  1,\n  0,\n  0,\n  0,\n  0,\n  0,\n  0,\n  0,\n  0,\n  0,\n  0,\n  0,\n  0,\n  0],\n datetime.date(2016, 8, 28): [31,\n  18,\n  1,\n  0,\n  0,\n  0,\n  0,\n  0,\n  0,\n  0,\n  0,\n  0,\n  0,\n  0,\n  0,\n  0],\n datetime.date(2016, 8, 29): [31,\n  19,\n  1,\n  0,\n  0,\n  0,\n  0,\n  0,\n  0,\n  0,\n  0,\n  0,\n  0,\n  0,\n  0,\n  0],\n datetime.date(2016, 8, 30): [31,\n  19,\n  0,\n  1,\n  0,\n  0,\n  0,\n  0,\n  0,\n  0,\n  0,\n  0,\n  0,\n  0,\n  0,\n  0],\n datetime.date(2016, 8, 31): [33,\n  19,\n  1,\n  0,\n  0,\n  0,\n  0,\n  0,\n  0,\n  0,\n  0,\n  0,\n  0,\n  0,\n  0,\n  0],\n datetime.date(2016, 9, 1): [27, 19, 0, 0, 1, 0, 0, 0, 0, 0, 0, 0, 0, 0, 0, 0],\n datetime.date(2016, 9, 2): [28, 19, 0, 1, 0, 0, 0, 0, 0, 0, 0, 0, 0, 0, 0, 0],\n datetime.date(2016, 9, 3): [30, 20, 1, 0, 0, 0, 0, 0, 0, 0, 0, 0, 0, 0, 0, 0],\n datetime.date(2016, 9, 4): [29, 18, 0, 0, 0, 0, 0, 0, 1, 0, 0, 0, 0, 0, 0, 0],\n datetime.date(2016, 9, 5): [31, 20, 1, 0, 0, 0, 0, 0, 0, 0, 0, 0, 0, 0, 0, 0],\n datetime.date(2016, 9, 6): [30, 21, 0, 1, 0, 0, 0, 0, 0, 0, 0, 0, 0, 0, 0, 0],\n datetime.date(2016, 9, 7): [31, 19, 1, 0, 0, 0, 0, 0, 0, 0, 0, 0, 0, 0, 0, 0],\n datetime.date(2016, 9, 8): [31, 18, 1, 0, 0, 0, 0, 0, 0, 0, 0, 0, 0, 0, 0, 0],\n datetime.date(2016, 9, 9): [31, 19, 0, 1, 0, 0, 0, 0, 0, 0, 0, 0, 0, 0, 0, 0],\n datetime.date(2016, 9, 10): [30,\n  18,\n  0,\n  1,\n  0,\n  0,\n  0,\n  0,\n  0,\n  0,\n  0,\n  0,\n  0,\n  0,\n  0,\n  0],\n datetime.date(2016, 9, 11): [25,\n  18,\n  0,\n  0,\n  0,\n  0,\n  0,\n  0,\n  1,\n  0,\n  0,\n  0,\n  0,\n  0,\n  0,\n  0],\n datetime.date(2016, 9, 12): [27,\n  18,\n  0,\n  1,\n  0,\n  0,\n  0,\n  0,\n  0,\n  0,\n  0,\n  0,\n  0,\n  0,\n  0,\n  0],\n datetime.date(2016, 9, 13): [27,\n  19,\n  0,\n  1,\n  0,\n  0,\n  0,\n  0,\n  0,\n  0,\n  0,\n  0,\n  0,\n  0,\n  0,\n  0],\n datetime.date(2016, 9, 14): [30,\n  20,\n  0,\n  1,\n  0,\n  0,\n  0,\n  0,\n  0,\n  0,\n  0,\n  0,\n  0,\n  0,\n  0,\n  0],\n datetime.date(2016, 9, 15): [30,\n  21,\n  1,\n  0,\n  0,\n  0,\n  0,\n  0,\n  0,\n  0,\n  0,\n  0,\n  0,\n  0,\n  0,\n  0],\n datetime.date(2016, 9, 16): [30,\n  20,\n  0,\n  0,\n  0,\n  0,\n  0,\n  0,\n  1,\n  0,\n  0,\n  0,\n  0,\n  0,\n  0,\n  0],\n datetime.date(2016, 9, 17): [24,\n  17,\n  0,\n  1,\n  0,\n  0,\n  0,\n  0,\n  0,\n  0,\n  0,\n  0,\n  0,\n  0,\n  0,\n  0],\n datetime.date(2016, 9, 18): [22,\n  15,\n  0,\n  0,\n  0,\n  0,\n  0,\n  0,\n  1,\n  0,\n  0,\n  0,\n  0,\n  0,\n  0,\n  0],\n datetime.date(2016, 9, 19): [25,\n  13,\n  1,\n  0,\n  0,\n  0,\n  0,\n  0,\n  0,\n  0,\n  0,\n  0,\n  0,\n  0,\n  0,\n  0],\n datetime.date(2016, 9, 20): [26,\n  14,\n  1,\n  0,\n  0,\n  0,\n  0,\n  0,\n  0,\n  0,\n  0,\n  0,\n  0,\n  0,\n  0,\n  0],\n datetime.date(2016, 9, 21): [23,\n  16,\n  0,\n  0,\n  0,\n  0,\n  0,\n  0,\n  1,\n  0,\n  0,\n  0,\n  0,\n  0,\n  0,\n  0],\n datetime.date(2016, 9, 22): [26,\n  17,\n  0,\n  0,\n  0,\n  0,\n  0,\n  0,\n  1,\n  0,\n  0,\n  0,\n  0,\n  0,\n  0,\n  0],\n datetime.date(2016, 9, 23): [27,\n  19,\n  1,\n  0,\n  0,\n  0,\n  0,\n  0,\n  0,\n  0,\n  0,\n  0,\n  0,\n  0,\n  0,\n  0],\n datetime.date(2016, 9, 24): [29,\n  20,\n  0,\n  1,\n  0,\n  0,\n  0,\n  0,\n  0,\n  0,\n  0,\n  0,\n  0,\n  0,\n  0,\n  0],\n datetime.date(2016, 9, 25): [27,\n  19,\n  0,\n  0,\n  0,\n  0,\n  0,\n  0,\n  0,\n  0,\n  1,\n  0,\n  0,\n  0,\n  0,\n  0],\n datetime.date(2016, 9, 26): [24,\n  19,\n  0,\n  0,\n  0,\n  0,\n  0,\n  0,\n  1,\n  0,\n  0,\n  0,\n  0,\n  0,\n  0,\n  0],\n datetime.date(2016, 9, 27): [23,\n  12,\n  0,\n  1,\n  0,\n  0,\n  0,\n  0,\n  0,\n  0,\n  0,\n  0,\n  0,\n  0,\n  0,\n  0],\n datetime.date(2016, 9, 28): [20,\n  10,\n  1,\n  0,\n  0,\n  0,\n  0,\n  0,\n  0,\n  0,\n  0,\n  0,\n  0,\n  0,\n  0,\n  0],\n datetime.date(2016, 9, 29): [22,\n  12,\n  1,\n  0,\n  0,\n  0,\n  0,\n  0,\n  0,\n  0,\n  0,\n  0,\n  0,\n  0,\n  0,\n  0],\n datetime.date(2016, 9, 30): [24,\n  14,\n  1,\n  0,\n  0,\n  0,\n  0,\n  0,\n  0,\n  0,\n  0,\n  0,\n  0,\n  0,\n  0,\n  0],\n datetime.date(2016, 10, 1): [26,\n  15,\n  0,\n  0,\n  0,\n  0,\n  0,\n  0,\n  0,\n  0,\n  1,\n  0,\n  0,\n  0,\n  0,\n  0],\n datetime.date(2016, 10, 2): [26,\n  16,\n  0,\n  0,\n  0,\n  0,\n  0,\n  0,\n  0,\n  0,\n  1,\n  0,\n  0,\n  0,\n  0,\n  0],\n datetime.date(2016, 10, 3): [28,\n  16,\n  0,\n  0,\n  0,\n  0,\n  0,\n  0,\n  0,\n  0,\n  1,\n  0,\n  0,\n  0,\n  0,\n  0],\n datetime.date(2016, 10, 4): [19,\n  11,\n  0,\n  0,\n  0,\n  1,\n  0,\n  0,\n  0,\n  0,\n  0,\n  0,\n  0,\n  0,\n  0,\n  0],\n datetime.date(2016, 10, 5): [21,\n  13,\n  0,\n  1,\n  0,\n  0,\n  0,\n  0,\n  0,\n  0,\n  0,\n  0,\n  0,\n  0,\n  0,\n  0],\n datetime.date(2016, 10, 6): [17,\n  14,\n  0,\n  0,\n  0,\n  1,\n  0,\n  0,\n  0,\n  0,\n  0,\n  0,\n  0,\n  0,\n  0,\n  0],\n datetime.date(2016, 10, 7): [16,\n  12,\n  0,\n  0,\n  0,\n  1,\n  0,\n  0,\n  0,\n  0,\n  0,\n  0,\n  0,\n  0,\n  0,\n  0],\n datetime.date(2016, 10, 8): [19, 5, 1, 0, 0, 0, 0, 0, 0, 0, 0, 0, 0, 0, 0, 0],\n datetime.date(2016, 10, 9): [18, 8, 0, 1, 0, 0, 0, 0, 0, 0, 0, 0, 0, 0, 0, 0],\n datetime.date(2016, 10, 10): [20,\n  10,\n  0,\n  1,\n  0,\n  0,\n  0,\n  0,\n  0,\n  0,\n  0,\n  0,\n  0,\n  0,\n  0,\n  0],\n datetime.date(2016, 10, 11): [20,\n  10,\n  1,\n  0,\n  0,\n  0,\n  0,\n  0,\n  0,\n  0,\n  0,\n  0,\n  0,\n  0,\n  0,\n  0],\n datetime.date(2016, 10, 12): [19,\n  10,\n  0,\n  0,\n  1,\n  0,\n  0,\n  0,\n  0,\n  0,\n  0,\n  0,\n  0,\n  0,\n  0,\n  0],\n datetime.date(2016, 10, 13): [22,\n  12,\n  0,\n  0,\n  0,\n  0,\n  0,\n  0,\n  0,\n  0,\n  1,\n  0,\n  0,\n  0,\n  0,\n  0],\n datetime.date(2016, 10, 14): [23,\n  13,\n  0,\n  0,\n  0,\n  0,\n  0,\n  0,\n  0,\n  0,\n  1,\n  0,\n  0,\n  0,\n  0,\n  0],\n datetime.date(2016, 10, 15): [17,\n  11,\n  0,\n  0,\n  0,\n  1,\n  0,\n  0,\n  0,\n  0,\n  0,\n  0,\n  0,\n  0,\n  0,\n  0],\n datetime.date(2016, 10, 16): [20,\n  12,\n  0,\n  0,\n  0,\n  0,\n  0,\n  0,\n  0,\n  0,\n  1,\n  0,\n  0,\n  0,\n  0,\n  0],\n datetime.date(2016, 10, 17): [21,\n  9,\n  1,\n  0,\n  0,\n  0,\n  0,\n  0,\n  0,\n  0,\n  0,\n  0,\n  0,\n  0,\n  0,\n  0],\n datetime.date(2016, 10, 18): [20,\n  12,\n  0,\n  0,\n  1,\n  0,\n  0,\n  0,\n  0,\n  0,\n  0,\n  0,\n  0,\n  0,\n  0,\n  0],\n datetime.date(2016, 10, 19): [22,\n  14,\n  0,\n  0,\n  0,\n  0,\n  0,\n  0,\n  0,\n  0,\n  1,\n  0,\n  0,\n  0,\n  0,\n  0],\n datetime.date(2016, 10, 20): [15,\n  11,\n  0,\n  0,\n  0,\n  1,\n  0,\n  0,\n  0,\n  0,\n  0,\n  0,\n  0,\n  0,\n  0,\n  0],\n datetime.date(2016, 10, 21): [11,\n  11,\n  0,\n  0,\n  0,\n  1,\n  0,\n  0,\n  0,\n  0,\n  0,\n  0,\n  0,\n  0,\n  0,\n  0],\n datetime.date(2016, 10, 22): [15,\n  7,\n  0,\n  1,\n  0,\n  0,\n  0,\n  0,\n  0,\n  0,\n  0,\n  0,\n  0,\n  0,\n  0,\n  0],\n datetime.date(2016, 10, 23): [5, 0, 0, 1, 0, 0, 0, 0, 0, 0, 0, 0, 0, 0, 0, 0],\n datetime.date(2016, 10, 24): [13,\n  6,\n  0,\n  0,\n  1,\n  0,\n  0,\n  0,\n  0,\n  0,\n  0,\n  0,\n  0,\n  0,\n  0,\n  0],\n datetime.date(2016, 10, 25): [17,\n  10,\n  0,\n  0,\n  0,\n  0,\n  0,\n  0,\n  0,\n  0,\n  1,\n  0,\n  0,\n  0,\n  0,\n  0],\n datetime.date(2016, 10, 26): [10,\n  0,\n  0,\n  0,\n  1,\n  0,\n  0,\n  0,\n  0,\n  0,\n  0,\n  0,\n  0,\n  0,\n  0,\n  0],\n datetime.date(2016, 10, 27): [11,\n  7,\n  0,\n  0,\n  0,\n  1,\n  0,\n  0,\n  0,\n  0,\n  0,\n  0,\n  0,\n  0,\n  0,\n  0],\n datetime.date(2016, 10, 28): [13,\n  2,\n  1,\n  0,\n  0,\n  0,\n  0,\n  0,\n  0,\n  0,\n  0,\n  0,\n  0,\n  0,\n  0,\n  0],\n datetime.date(2016, 10, 29): [12,\n  2,\n  1,\n  0,\n  0,\n  0,\n  0,\n  0,\n  0,\n  0,\n  0,\n  0,\n  0,\n  0,\n  0,\n  0],\n datetime.date(2016, 10, 30): [13,\n  2,\n  0,\n  1,\n  0,\n  0,\n  0,\n  0,\n  0,\n  0,\n  0,\n  0,\n  0,\n  0,\n  0,\n  0],\n datetime.date(2016, 10, 31): [6,\n  -4,\n  1,\n  0,\n  0,\n  0,\n  0,\n  0,\n  0,\n  0,\n  0,\n  0,\n  0,\n  0,\n  0,\n  0],\n datetime.date(2016, 11, 1): [8, -2, 0, 1, 0, 0, 0, 0, 0, 0, 0, 0, 0, 0, 0, 0],\n datetime.date(2016, 11, 2): [12, 1, 1, 0, 0, 0, 0, 0, 0, 0, 0, 0, 0, 0, 0, 0],\n datetime.date(2016, 11, 3): [13, 2, 0, 0, 0, 0, 0, 0, 0, 0, 1, 0, 0, 0, 0, 0],\n datetime.date(2016, 11, 4): [14, 4, 0, 0, 0, 0, 0, 0, 0, 0, 1, 0, 0, 0, 0, 0],\n datetime.date(2016, 11, 5): [18, 2, 1, 0, 0, 0, 0, 0, 0, 0, 0, 0, 0, 0, 0, 0],\n datetime.date(2016, 11, 6): [10, 3, 0, 0, 1, 0, 0, 0, 0, 0, 0, 0, 0, 0, 0, 0],\n datetime.date(2016, 11, 7): [11, 2, 1, 0, 0, 0, 0, 0, 0, 0, 0, 0, 0, 0, 0, 0],\n datetime.date(2016, 11, 8): [11,\n  -1,\n  1,\n  0,\n  0,\n  0,\n  0,\n  0,\n  0,\n  0,\n  0,\n  0,\n  0,\n  0,\n  0,\n  0],\n datetime.date(2016, 11, 9): [8, 2, 0, 0, 0, 0, 0, 0, 0, 0, 1, 0, 0, 0, 0, 0],\n datetime.date(2016, 11, 10): [10,\n  1,\n  0,\n  0,\n  0,\n  0,\n  0,\n  0,\n  0,\n  0,\n  1,\n  0,\n  0,\n  0,\n  0,\n  0],\n datetime.date(2016, 11, 11): [11,\n  1,\n  0,\n  1,\n  0,\n  0,\n  0,\n  0,\n  0,\n  0,\n  0,\n  0,\n  0,\n  0,\n  0,\n  0],\n datetime.date(2016, 11, 12): [12,\n  2,\n  1,\n  0,\n  0,\n  0,\n  0,\n  0,\n  0,\n  0,\n  0,\n  0,\n  0,\n  0,\n  0,\n  0],\n datetime.date(2016, 11, 13): [11,\n  3,\n  0,\n  0,\n  0,\n  0,\n  0,\n  0,\n  0,\n  0,\n  1,\n  0,\n  0,\n  0,\n  0,\n  0],\n datetime.date(2016, 11, 14): [13,\n  -2,\n  1,\n  0,\n  0,\n  0,\n  0,\n  0,\n  0,\n  0,\n  0,\n  0,\n  0,\n  0,\n  0,\n  0],\n datetime.date(2016, 11, 15): [11,\n  0,\n  1,\n  0,\n  0,\n  0,\n  0,\n  0,\n  0,\n  0,\n  0,\n  0,\n  0,\n  0,\n  0,\n  0],\n datetime.date(2016, 11, 16): [11,\n  2,\n  1,\n  0,\n  0,\n  0,\n  0,\n  0,\n  0,\n  0,\n  0,\n  0,\n  0,\n  0,\n  0,\n  0],\n datetime.date(2016, 11, 17): [7, 4, 0, 0, 0, 0, 0, 0, 0, 0, 1, 0, 0, 0, 0, 0],\n datetime.date(2016, 11, 18): [10,\n  6,\n  0,\n  0,\n  0,\n  0,\n  0,\n  0,\n  0,\n  0,\n  1,\n  0,\n  0,\n  0,\n  0,\n  0],\n datetime.date(2016, 11, 19): [3, 0, 0, 0, 0, 1, 0, 0, 0, 0, 0, 0, 0, 0, 0, 0],\n datetime.date(2016, 11, 20): [5,\n  -1,\n  0,\n  0,\n  0,\n  1,\n  0,\n  0,\n  0,\n  0,\n  0,\n  1,\n  0,\n  0,\n  0,\n  0],\n datetime.date(2016, 11, 21): [0,\n  -9,\n  0,\n  0,\n  0,\n  0,\n  0,\n  0,\n  0,\n  0,\n  0,\n  1,\n  0,\n  0,\n  0,\n  0],\n datetime.date(2016, 11, 22): [0,\n  -8,\n  1,\n  0,\n  0,\n  0,\n  0,\n  0,\n  0,\n  0,\n  0,\n  0,\n  0,\n  0,\n  0,\n  0],\n datetime.date(2016, 11, 23): [3,\n  -6,\n  1,\n  0,\n  0,\n  0,\n  0,\n  0,\n  0,\n  0,\n  0,\n  0,\n  0,\n  0,\n  0,\n  0],\n datetime.date(2016, 11, 24): [4,\n  -6,\n  1,\n  0,\n  0,\n  0,\n  0,\n  0,\n  0,\n  0,\n  0,\n  0,\n  0,\n  0,\n  0,\n  0],\n datetime.date(2016, 11, 25): [5,\n  -5,\n  0,\n  0,\n  0,\n  0,\n  0,\n  0,\n  0,\n  0,\n  1,\n  0,\n  0,\n  0,\n  0,\n  0],\n datetime.date(2016, 11, 26): [8,\n  -4,\n  0,\n  0,\n  0,\n  0,\n  0,\n  0,\n  0,\n  0,\n  1,\n  0,\n  0,\n  0,\n  0,\n  0],\n datetime.date(2016, 11, 27): [8,\n  -4,\n  1,\n  0,\n  0,\n  0,\n  0,\n  0,\n  0,\n  0,\n  0,\n  0,\n  0,\n  0,\n  0,\n  0],\n datetime.date(2016, 11, 28): [8,\n  -4,\n  1,\n  0,\n  0,\n  0,\n  0,\n  0,\n  0,\n  0,\n  0,\n  0,\n  0,\n  0,\n  0,\n  0],\n datetime.date(2016, 11, 29): [4,\n  -3,\n  0,\n  0,\n  0,\n  1,\n  0,\n  0,\n  0,\n  0,\n  0,\n  1,\n  0,\n  0,\n  0,\n  0],\n datetime.date(2016, 11, 30): [9,\n  -1,\n  0,\n  0,\n  0,\n  0,\n  0,\n  0,\n  0,\n  0,\n  1,\n  0,\n  0,\n  0,\n  0,\n  0]}"
      ]
     },
     "execution_count": 112,
     "metadata": {},
     "output_type": "execute_result"
    }
   ],
   "source": [
    "city_to_daily_weather['beijing']"
   ]
  },
  {
   "cell_type": "markdown",
   "metadata": {},
   "source": [
    "### get cityname for each shop"
   ]
  },
  {
   "cell_type": "code",
   "execution_count": 100,
   "metadata": {},
   "outputs": [],
   "source": [
    "from pypinyin import lazy_pinyin\n",
    "def get_pinyin(chs_name):\n",
    "    '''\n",
    "    return the pinyin in str type for  given  Chinese words in type str\n",
    "    '''\n",
    "    if chs_name == '泰州':\n",
    "        return 'taizhou2'\n",
    "    elif chs_name == '长治':\n",
    "        return 'changzhi'\n",
    "    elif chs_name == '厦门':\n",
    "        return 'xiamen'\n",
    "    elif chs_name == '六安':\n",
    "        return 'luan'\n",
    "    elif chs_name == '蚌埠':\n",
    "        return 'bengbu'\n",
    "    else:\n",
    "        return reduce(lambda x, y: x + y, lazy_pinyin(chs_name.decode('utf-8'))).encode('utf-8')\n",
    "def get_shop_map_to_cityname():\n",
    "    dicres= {}\n",
    "    FILE = '/home/hao/Dropbox/dataset/shop_info.csv'\n",
    "    with open(FILE, 'r') as fp:\n",
    "        lines = fp.readlines()\n",
    "        for l in lines:\n",
    "            terms = l.split(',')\n",
    "            shop = int(terms[0])\n",
    "            city = get_pinyin(terms[1])\n",
    "            dicres[shop] = city\n",
    "    return dicres\n",
    "maps = get_shop_map_to_cityname()"
   ]
  },
  {
   "cell_type": "code",
   "execution_count": 113,
   "metadata": {},
   "outputs": [
    {
     "data": {
      "text/plain": [
       "'ningbo'"
      ]
     },
     "execution_count": 113,
     "metadata": {},
     "output_type": "execute_result"
    }
   ],
   "source": [
    "maps[12]"
   ]
  },
  {
   "cell_type": "code",
   "execution_count": 110,
   "metadata": {},
   "outputs": [],
   "source": [
    "import pickle\n",
    "pickle.dump(maps,open('shop_2_city.pkl','wb'))"
   ]
  },
  {
   "cell_type": "markdown",
   "metadata": {},
   "source": [
    "####check if each city is in the weather city list, no output means yes"
   ]
  },
  {
   "cell_type": "code",
   "execution_count": 126,
   "metadata": {},
   "outputs": [],
   "source": [
    "def check():\n",
    "    for i in xrange(1,2001):\n",
    "        if maps[i] not in all_aqi_cities:\n",
    "            print i, maps[i]\n",
    "check()"
   ]
  },
  {
   "cell_type": "markdown",
   "metadata": {},
   "source": [
    "### Test for AQI"
   ]
  },
  {
   "cell_type": "code",
   "execution_count": 150,
   "metadata": {},
   "outputs": [],
   "source": [
    "def get_map_from_city_to_daily_aqi():\n",
    "    aqi_all_data = '/home/hao/Dropbox/dataset/Scripts/weather/aqistudy-master/aqi/alldata.csv'\n",
    "    all_data = pd.read_csv(aqi_all_data,parse_dates=[0])\n",
    "    indexes = all_data.columns\n",
    "    days = all_data['Date']\n",
    "    res = {}\n",
    "    #print indexes\n",
    "    for city in indexes:\n",
    "        #print city\n",
    "        pinyin = get_pinyin(city)\n",
    "        subdict = res.setdefault(pinyin,{})\n",
    "        aqis = all_data[city]\n",
    "        pairs = zip(days,aqis)\n",
    "        for p in pairs:\n",
    "            subdict[p[0].date()]=p[1]\n",
    "    res.pop('Date')\n",
    "    return res\n",
    "res = get_map_from_city_to_daily_aqi()"
   ]
  },
  {
   "cell_type": "code",
   "execution_count": 152,
   "metadata": {},
   "outputs": [],
   "source": [
    "pickle.dump(res,open('city_to_daily_aqi.pkl','wb'))"
   ]
  },
  {
   "cell_type": "code",
   "execution_count": 158,
   "metadata": {},
   "outputs": [
    {
     "data": {
      "text/plain": [
       "[16, 11, 0, 1, 1, 0, 0, 0, 0, 0, 0, 0, 0, 0, 0, 0]"
      ]
     },
     "execution_count": 158,
     "metadata": {},
     "output_type": "execute_result"
    }
   ],
   "source": [
    "city_to_daily_weather[maps[1]][datetime.strptime(\"2015-11-13\",'%Y-%m-%d').date()]"
   ]
  },
  {
   "cell_type": "code",
   "execution_count": 159,
   "metadata": {},
   "outputs": [
    {
     "data": {
      "text/plain": [
       "'huzhou'"
      ]
     },
     "execution_count": 159,
     "metadata": {},
     "output_type": "execute_result"
    }
   ],
   "source": [
    "maps[1]"
   ]
  }
 ],
 "metadata": {
  "anaconda-cloud": {},
  "kernelspec": {
   "display_name": "Python [conda root]",
   "language": "python",
   "name": "conda-root-py"
  },
  "language_info": {
   "codemirror_mode": {
    "name": "ipython",
    "version": 2.0
   },
   "file_extension": ".py",
   "mimetype": "text/x-python",
   "name": "python",
   "nbconvert_exporter": "python",
   "pygments_lexer": "ipython2",
   "version": "2.7.12"
  }
 },
 "nbformat": 4,
 "nbformat_minor": 0
}